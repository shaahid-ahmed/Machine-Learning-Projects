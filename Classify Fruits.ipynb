{
 "cells": [
  {
   "cell_type": "code",
   "execution_count": 1,
   "id": "21c1f80b",
   "metadata": {
    "_cell_guid": "b1076dfc-b9ad-4769-8c92-a6c4dae69d19",
    "_uuid": "8f2839f25d086af736a60e9eeb907d3b93b6e0e5",
    "execution": {
     "iopub.execute_input": "2023-05-15T16:08:01.173317Z",
     "iopub.status.busy": "2023-05-15T16:08:01.172924Z",
     "iopub.status.idle": "2023-05-15T16:08:01.188743Z",
     "shell.execute_reply": "2023-05-15T16:08:01.187760Z"
    },
    "papermill": {
     "duration": 0.026726,
     "end_time": "2023-05-15T16:08:01.191741",
     "exception": false,
     "start_time": "2023-05-15T16:08:01.165015",
     "status": "completed"
    },
    "tags": []
   },
   "outputs": [
    {
     "name": "stdout",
     "output_type": "stream",
     "text": [
      "/kaggle/input/classify-fruits-fallinter-b1/sample_submission.csv\n",
      "/kaggle/input/classify-fruits-fallinter-b1/fruits_test.csv\n",
      "/kaggle/input/classify-fruits-fallinter-b1/fruits_train.csv\n"
     ]
    }
   ],
   "source": [
    "# This Python 3 environment comes with many helpful analytics libraries installed\n",
    "# It is defined by the kaggle/python Docker image: https://github.com/kaggle/docker-python\n",
    "# For example, here's several helpful packages to load\n",
    "\n",
    "import numpy as np # linear algebra\n",
    "import pandas as pd # data processing, CSV file I/O (e.g. pd.read_csv)\n",
    "\n",
    "# Input data files are available in the read-only \"../input/\" directory\n",
    "# For example, running this (by clicking run or pressing Shift+Enter) will list all files under the input directory\n",
    "\n",
    "import os\n",
    "for dirname, _, filenames in os.walk('/kaggle/input'):\n",
    "    for filename in filenames:\n",
    "        print(os.path.join(dirname, filename))\n",
    "\n",
    "# You can write up to 20GB to the current directory (/kaggle/working/) that gets preserved as output when you create a version using \"Save & Run All\" \n",
    "# You can also write temporary files to /kaggle/temp/, but they won't be saved outside of the current session"
   ]
  },
  {
   "cell_type": "code",
   "execution_count": 2,
   "id": "a7d4eea9",
   "metadata": {
    "execution": {
     "iopub.execute_input": "2023-05-15T16:08:01.205715Z",
     "iopub.status.busy": "2023-05-15T16:08:01.205224Z",
     "iopub.status.idle": "2023-05-15T16:08:02.653555Z",
     "shell.execute_reply": "2023-05-15T16:08:02.652570Z"
    },
    "papermill": {
     "duration": 1.45849,
     "end_time": "2023-05-15T16:08:02.656207",
     "exception": false,
     "start_time": "2023-05-15T16:08:01.197717",
     "status": "completed"
    },
    "tags": []
   },
   "outputs": [
    {
     "name": "stderr",
     "output_type": "stream",
     "text": [
      "/opt/conda/lib/python3.10/site-packages/scipy/__init__.py:146: UserWarning: A NumPy version >=1.16.5 and <1.23.0 is required for this version of SciPy (detected version 1.23.5\n",
      "  warnings.warn(f\"A NumPy version >={np_minversion} and <{np_maxversion}\"\n"
     ]
    }
   ],
   "source": [
    "import pandas as pd\n",
    "import numpy as np\n",
    "from scipy.spatial.distance import minkowski\n",
    "from sklearn.preprocessing import StandardScaler\n",
    "# function to calculate the Minkowski distance between two data points\n",
    "def minkowski_distance(x1, x2, p):\n",
    "    return np.power(np.sum(np.power(np.abs(x1 - x2), p)), 1/p)"
   ]
  },
  {
   "cell_type": "code",
   "execution_count": 3,
   "id": "0fb7a3e2",
   "metadata": {
    "execution": {
     "iopub.execute_input": "2023-05-15T16:08:02.669962Z",
     "iopub.status.busy": "2023-05-15T16:08:02.668850Z",
     "iopub.status.idle": "2023-05-15T16:08:02.678773Z",
     "shell.execute_reply": "2023-05-15T16:08:02.677435Z"
    },
    "papermill": {
     "duration": 0.019563,
     "end_time": "2023-05-15T16:08:02.681331",
     "exception": false,
     "start_time": "2023-05-15T16:08:02.661768",
     "status": "completed"
    },
    "tags": []
   },
   "outputs": [],
   "source": [
    "# function to find K nearest neighbors\n",
    "def knn(X_train, y_train, X_test, K, p=2):\n",
    "    distances = []\n",
    "    # loop over all the training data\n",
    "    for i in range(len(X_train)):\n",
    "        # calculate the distance between the test data and the training data\n",
    "        dist = minkowski_distance(X_test, X_train[i], p)\n",
    "        distances.append((dist, y_train[i]))\n",
    "    \n",
    "    # sort the distances in ascending order\n",
    "    distances.sort(key=lambda x: x[0])\n",
    "    \n",
    "    # take the first K neighbors\n",
    "    neighbors = distances[:K]\n",
    "    \n",
    "    # count the number of votes for each class\n",
    "    class_votes = {}\n",
    "    for i in range(K):\n",
    "        label = neighbors[i][1]\n",
    "        if label in class_votes:\n",
    "            class_votes[label] += 1\n",
    "        else:\n",
    "            class_votes[label] = 1\n",
    "            \n",
    "    # return the label with the most votes\n",
    "    return max(class_votes, key=class_votes.get)"
   ]
  },
  {
   "cell_type": "code",
   "execution_count": 4,
   "id": "02d43d11",
   "metadata": {
    "execution": {
     "iopub.execute_input": "2023-05-15T16:08:02.695903Z",
     "iopub.status.busy": "2023-05-15T16:08:02.695439Z",
     "iopub.status.idle": "2023-05-15T16:08:02.726434Z",
     "shell.execute_reply": "2023-05-15T16:08:02.724630Z"
    },
    "papermill": {
     "duration": 0.041861,
     "end_time": "2023-05-15T16:08:02.729701",
     "exception": false,
     "start_time": "2023-05-15T16:08:02.687840",
     "status": "completed"
    },
    "tags": []
   },
   "outputs": [],
   "source": [
    "# read the training and testing CSV files into DataFrames\n",
    "train_df = pd.read_csv('/kaggle/input/classify-fruits-fallinter-b1/fruits_train.csv')\n",
    "test_df = pd.read_csv('/kaggle/input/classify-fruits-fallinter-b1/fruits_test.csv')"
   ]
  },
  {
   "cell_type": "code",
   "execution_count": 5,
   "id": "b69831f8",
   "metadata": {
    "execution": {
     "iopub.execute_input": "2023-05-15T16:08:02.744068Z",
     "iopub.status.busy": "2023-05-15T16:08:02.743122Z",
     "iopub.status.idle": "2023-05-15T16:08:02.785236Z",
     "shell.execute_reply": "2023-05-15T16:08:02.783947Z"
    },
    "papermill": {
     "duration": 0.052084,
     "end_time": "2023-05-15T16:08:02.787824",
     "exception": false,
     "start_time": "2023-05-15T16:08:02.735740",
     "status": "completed"
    },
    "tags": []
   },
   "outputs": [
    {
     "data": {
      "text/html": [
       "<div>\n",
       "<style scoped>\n",
       "    .dataframe tbody tr th:only-of-type {\n",
       "        vertical-align: middle;\n",
       "    }\n",
       "\n",
       "    .dataframe tbody tr th {\n",
       "        vertical-align: top;\n",
       "    }\n",
       "\n",
       "    .dataframe thead th {\n",
       "        text-align: right;\n",
       "    }\n",
       "</style>\n",
       "<table border=\"1\" class=\"dataframe\">\n",
       "  <thead>\n",
       "    <tr style=\"text-align: right;\">\n",
       "      <th></th>\n",
       "      <th>Id</th>\n",
       "      <th>mass</th>\n",
       "      <th>width</th>\n",
       "      <th>height</th>\n",
       "      <th>label</th>\n",
       "    </tr>\n",
       "  </thead>\n",
       "  <tbody>\n",
       "    <tr>\n",
       "      <th>0</th>\n",
       "      <td>1</td>\n",
       "      <td>160</td>\n",
       "      <td>7.1</td>\n",
       "      <td>7.6</td>\n",
       "      <td>2</td>\n",
       "    </tr>\n",
       "    <tr>\n",
       "      <th>1</th>\n",
       "      <td>2</td>\n",
       "      <td>194</td>\n",
       "      <td>7.2</td>\n",
       "      <td>10.3</td>\n",
       "      <td>3</td>\n",
       "    </tr>\n",
       "    <tr>\n",
       "      <th>2</th>\n",
       "      <td>3</td>\n",
       "      <td>154</td>\n",
       "      <td>7.2</td>\n",
       "      <td>7.2</td>\n",
       "      <td>2</td>\n",
       "    </tr>\n",
       "    <tr>\n",
       "      <th>3</th>\n",
       "      <td>4</td>\n",
       "      <td>154</td>\n",
       "      <td>7.0</td>\n",
       "      <td>7.1</td>\n",
       "      <td>1</td>\n",
       "    </tr>\n",
       "    <tr>\n",
       "      <th>4</th>\n",
       "      <td>5</td>\n",
       "      <td>162</td>\n",
       "      <td>7.4</td>\n",
       "      <td>7.2</td>\n",
       "      <td>1</td>\n",
       "    </tr>\n",
       "  </tbody>\n",
       "</table>\n",
       "</div>"
      ],
      "text/plain": [
       "   Id  mass  width  height  label\n",
       "0   1   160    7.1     7.6      2\n",
       "1   2   194    7.2    10.3      3\n",
       "2   3   154    7.2     7.2      2\n",
       "3   4   154    7.0     7.1      1\n",
       "4   5   162    7.4     7.2      1"
      ]
     },
     "execution_count": 5,
     "metadata": {},
     "output_type": "execute_result"
    }
   ],
   "source": [
    "train_df.head()"
   ]
  },
  {
   "cell_type": "code",
   "execution_count": 6,
   "id": "bf4bd492",
   "metadata": {
    "execution": {
     "iopub.execute_input": "2023-05-15T16:08:02.801980Z",
     "iopub.status.busy": "2023-05-15T16:08:02.801487Z",
     "iopub.status.idle": "2023-05-15T16:08:02.816786Z",
     "shell.execute_reply": "2023-05-15T16:08:02.815342Z"
    },
    "papermill": {
     "duration": 0.025656,
     "end_time": "2023-05-15T16:08:02.819533",
     "exception": false,
     "start_time": "2023-05-15T16:08:02.793877",
     "status": "completed"
    },
    "tags": []
   },
   "outputs": [
    {
     "data": {
      "text/html": [
       "<div>\n",
       "<style scoped>\n",
       "    .dataframe tbody tr th:only-of-type {\n",
       "        vertical-align: middle;\n",
       "    }\n",
       "\n",
       "    .dataframe tbody tr th {\n",
       "        vertical-align: top;\n",
       "    }\n",
       "\n",
       "    .dataframe thead th {\n",
       "        text-align: right;\n",
       "    }\n",
       "</style>\n",
       "<table border=\"1\" class=\"dataframe\">\n",
       "  <thead>\n",
       "    <tr style=\"text-align: right;\">\n",
       "      <th></th>\n",
       "      <th>Id</th>\n",
       "      <th>mass</th>\n",
       "      <th>width</th>\n",
       "      <th>height</th>\n",
       "    </tr>\n",
       "  </thead>\n",
       "  <tbody>\n",
       "    <tr>\n",
       "      <th>0</th>\n",
       "      <td>1</td>\n",
       "      <td>118</td>\n",
       "      <td>6.1</td>\n",
       "      <td>8.1</td>\n",
       "    </tr>\n",
       "    <tr>\n",
       "      <th>1</th>\n",
       "      <td>2</td>\n",
       "      <td>158</td>\n",
       "      <td>7.2</td>\n",
       "      <td>7.8</td>\n",
       "    </tr>\n",
       "    <tr>\n",
       "      <th>2</th>\n",
       "      <td>3</td>\n",
       "      <td>120</td>\n",
       "      <td>6.0</td>\n",
       "      <td>8.4</td>\n",
       "    </tr>\n",
       "    <tr>\n",
       "      <th>3</th>\n",
       "      <td>4</td>\n",
       "      <td>210</td>\n",
       "      <td>7.8</td>\n",
       "      <td>8.0</td>\n",
       "    </tr>\n",
       "    <tr>\n",
       "      <th>4</th>\n",
       "      <td>5</td>\n",
       "      <td>156</td>\n",
       "      <td>7.6</td>\n",
       "      <td>7.5</td>\n",
       "    </tr>\n",
       "  </tbody>\n",
       "</table>\n",
       "</div>"
      ],
      "text/plain": [
       "   Id  mass  width  height\n",
       "0   1   118    6.1     8.1\n",
       "1   2   158    7.2     7.8\n",
       "2   3   120    6.0     8.4\n",
       "3   4   210    7.8     8.0\n",
       "4   5   156    7.6     7.5"
      ]
     },
     "execution_count": 6,
     "metadata": {},
     "output_type": "execute_result"
    }
   ],
   "source": [
    "test_df.head()"
   ]
  },
  {
   "cell_type": "code",
   "execution_count": 7,
   "id": "fd702695",
   "metadata": {
    "execution": {
     "iopub.execute_input": "2023-05-15T16:08:02.833952Z",
     "iopub.status.busy": "2023-05-15T16:08:02.833525Z",
     "iopub.status.idle": "2023-05-15T16:08:02.851428Z",
     "shell.execute_reply": "2023-05-15T16:08:02.850177Z"
    },
    "papermill": {
     "duration": 0.028209,
     "end_time": "2023-05-15T16:08:02.853877",
     "exception": false,
     "start_time": "2023-05-15T16:08:02.825668",
     "status": "completed"
    },
    "tags": []
   },
   "outputs": [
    {
     "name": "stdout",
     "output_type": "stream",
     "text": [
      "X_train shape: (40, 3)\n",
      "X_test shape: (14, 3)\n"
     ]
    }
   ],
   "source": [
    "# Extract the relevant columns from the training data\n",
    "X_train = train_df[['width', 'height']].values\n",
    "mass_train = train_df['mass'].values\n",
    "y_train = train_df['label'].values\n",
    "\n",
    "# Extract the relevant columns from the test data\n",
    "X_test = test_df[['width', 'height']].values\n",
    "mass_test = test_df['mass'].values\n",
    "# Concatenate the features into separate parameters\n",
    "X_train_combined = np.column_stack((X_train, mass_train))\n",
    "X_test_combined = np.column_stack((X_test, mass_test))\n",
    "# print the shapes of the input arrays\n",
    "print(\"X_train shape:\",X_train_combined.shape)\n",
    "print(\"X_test shape:\", X_test_combined.shape)\n"
   ]
  },
  {
   "cell_type": "code",
   "execution_count": 8,
   "id": "efeb0d9e",
   "metadata": {
    "execution": {
     "iopub.execute_input": "2023-05-15T16:08:02.869142Z",
     "iopub.status.busy": "2023-05-15T16:08:02.868332Z",
     "iopub.status.idle": "2023-05-15T16:08:02.875451Z",
     "shell.execute_reply": "2023-05-15T16:08:02.874068Z"
    },
    "papermill": {
     "duration": 0.018059,
     "end_time": "2023-05-15T16:08:02.878167",
     "exception": false,
     "start_time": "2023-05-15T16:08:02.860108",
     "status": "completed"
    },
    "tags": []
   },
   "outputs": [],
   "source": [
    "# normalize the data\n",
    "scaler = StandardScaler()\n",
    "X_train = scaler.fit_transform(X_train_combined)\n",
    "X_test = scaler.transform(X_test_combined)"
   ]
  },
  {
   "cell_type": "code",
   "execution_count": 9,
   "id": "721c12bb",
   "metadata": {
    "execution": {
     "iopub.execute_input": "2023-05-15T16:08:02.893364Z",
     "iopub.status.busy": "2023-05-15T16:08:02.892049Z",
     "iopub.status.idle": "2023-05-15T16:08:02.902568Z",
     "shell.execute_reply": "2023-05-15T16:08:02.901324Z"
    },
    "papermill": {
     "duration": 0.021223,
     "end_time": "2023-05-15T16:08:02.905563",
     "exception": false,
     "start_time": "2023-05-15T16:08:02.884340",
     "status": "completed"
    },
    "tags": []
   },
   "outputs": [
    {
     "data": {
      "text/plain": [
       "array([[-0.17372883, -0.41582033, -0.23463339],\n",
       "       [-0.04963681,  2.30591272,  0.36972534],\n",
       "       [-0.04963681, -0.81904004, -0.34128493],\n",
       "       [-0.29782085, -0.91984497, -0.34128493],\n",
       "       [ 0.19854723, -0.81904004, -0.19908288],\n",
       "       [-0.04963681, -1.02064989, -0.16353236],\n",
       "       [-0.17372883, -0.51662526, -0.34128493],\n",
       "       [-1.41464904,  0.49142402, -1.0167447 ],\n",
       "       [ 0.44673128, -0.11340554, -0.05688082],\n",
       "       [-1.66283308,  0.08820431, -1.0167447 ],\n",
       "       [-0.54600489, -0.61743018, -0.5190375 ],\n",
       "       [ 0.32263925, -0.51662526, -0.23463339],\n",
       "       [-0.42191287, -0.71823511, -0.12798185],\n",
       "       [ 0.44673128, -0.21421047, -0.55458802],\n",
       "       [ 0.19854723, -0.61743018, -0.30573442],\n",
       "       [-1.53874106, -0.51662526, -1.0167447 ],\n",
       "       [ 2.43220361,  1.19705852,  3.24931697],\n",
       "       [-0.91828096,  0.49142402, -0.37683545],\n",
       "       [ 0.07445521, -0.3150154 , -0.16353236],\n",
       "       [ 0.32263925, -0.91984497, -0.19908288],\n",
       "       [-0.17372883, -0.51662526, -0.27018391],\n",
       "       [ 0.07445521, -0.91984497, -0.59013853],\n",
       "       [-0.04963681,  1.19705852,  0.22752329],\n",
       "       [ 0.07445521,  2.10430287,  0.01422021],\n",
       "       [ 0.94309936, -1.22225975,  0.12087175],\n",
       "       [ 0.32263925, -0.41582033, -0.09243134],\n",
       "       [ 0.07445521,  2.2051078 ,  0.760781  ],\n",
       "       [-0.29782085, -0.61743018, -0.23463339],\n",
       "       [-0.17372883, -0.41582033, -0.02133031],\n",
       "       [-0.67009691, -0.91984497, -0.59013853],\n",
       "       [ 0.44673128,  0.18900924,  0.12087175],\n",
       "       [ 2.9285717 ,  1.19705852,  3.35596851],\n",
       "       [ 2.18401957,  1.39866837,  3.00046337],\n",
       "       [ 0.44673128, -0.71823511, -0.37683545],\n",
       "       [ 0.07445521,  2.50752258,  0.47637689],\n",
       "       [-1.166465  , -0.3150154 , -1.0167447 ],\n",
       "       [-0.17372883, -0.21421047,  0.08532123],\n",
       "       [ 1.43946744, -0.71823511,  0.33417483],\n",
       "       [-1.66283308, -0.01260062, -0.98119418],\n",
       "       [-1.7869251 ,  0.69303388, -0.73234059]])"
      ]
     },
     "execution_count": 9,
     "metadata": {},
     "output_type": "execute_result"
    }
   ],
   "source": [
    "X_train"
   ]
  },
  {
   "cell_type": "code",
   "execution_count": 10,
   "id": "097e9315",
   "metadata": {
    "execution": {
     "iopub.execute_input": "2023-05-15T16:08:02.922238Z",
     "iopub.status.busy": "2023-05-15T16:08:02.921047Z",
     "iopub.status.idle": "2023-05-15T16:08:02.929219Z",
     "shell.execute_reply": "2023-05-15T16:08:02.927989Z"
    },
    "papermill": {
     "duration": 0.019958,
     "end_time": "2023-05-15T16:08:02.932309",
     "exception": false,
     "start_time": "2023-05-15T16:08:02.912351",
     "status": "completed"
    },
    "tags": []
   },
   "outputs": [
    {
     "data": {
      "text/plain": [
       "(40,)"
      ]
     },
     "execution_count": 10,
     "metadata": {},
     "output_type": "execute_result"
    }
   ],
   "source": [
    "y_train.shape"
   ]
  },
  {
   "cell_type": "code",
   "execution_count": 11,
   "id": "89b5285b",
   "metadata": {
    "execution": {
     "iopub.execute_input": "2023-05-15T16:08:02.948380Z",
     "iopub.status.busy": "2023-05-15T16:08:02.947482Z",
     "iopub.status.idle": "2023-05-15T16:08:02.955361Z",
     "shell.execute_reply": "2023-05-15T16:08:02.953678Z"
    },
    "papermill": {
     "duration": 0.018679,
     "end_time": "2023-05-15T16:08:02.957725",
     "exception": false,
     "start_time": "2023-05-15T16:08:02.939046",
     "status": "completed"
    },
    "tags": []
   },
   "outputs": [
    {
     "data": {
      "text/plain": [
       "(14, 3)"
      ]
     },
     "execution_count": 11,
     "metadata": {},
     "output_type": "execute_result"
    }
   ],
   "source": [
    "X_test.shape"
   ]
  },
  {
   "cell_type": "code",
   "execution_count": 12,
   "id": "178c60da",
   "metadata": {
    "execution": {
     "iopub.execute_input": "2023-05-15T16:08:02.974427Z",
     "iopub.status.busy": "2023-05-15T16:08:02.973554Z",
     "iopub.status.idle": "2023-05-15T16:08:02.981399Z",
     "shell.execute_reply": "2023-05-15T16:08:02.980222Z"
    },
    "papermill": {
     "duration": 0.019006,
     "end_time": "2023-05-15T16:08:02.983905",
     "exception": false,
     "start_time": "2023-05-15T16:08:02.964899",
     "status": "completed"
    },
    "tags": []
   },
   "outputs": [
    {
     "data": {
      "text/plain": [
       "array([2, 3, 2, 1, 1, 2, 2, 3, 1, 3, 2, 1, 1, 2, 1, 3, 2, 3, 1, 1, 2, 1,\n",
       "       3, 3, 1, 1, 3, 2, 1, 2, 2, 2, 2, 1, 3, 3, 1, 1, 3, 3])"
      ]
     },
     "execution_count": 12,
     "metadata": {},
     "output_type": "execute_result"
    }
   ],
   "source": [
    "y_train"
   ]
  },
  {
   "cell_type": "code",
   "execution_count": 13,
   "id": "b000dc1a",
   "metadata": {
    "execution": {
     "iopub.execute_input": "2023-05-15T16:08:03.000758Z",
     "iopub.status.busy": "2023-05-15T16:08:02.999881Z",
     "iopub.status.idle": "2023-05-15T16:08:03.020577Z",
     "shell.execute_reply": "2023-05-15T16:08:03.018764Z"
    },
    "papermill": {
     "duration": 0.032715,
     "end_time": "2023-05-15T16:08:03.023490",
     "exception": false,
     "start_time": "2023-05-15T16:08:02.990775",
     "status": "completed"
    },
    "tags": []
   },
   "outputs": [],
   "source": [
    "# define the ensemble method\n",
    "# set the value of K and p for Minkowski distance\n",
    "K = 5\n",
    "p=2\n",
    "# make predictions for the test data\n",
    "predictions = []\n",
    "for i in range(len(X_test_combined)):\n",
    "    pred = knn(X_train_combined, y_train, X_test_combined[i], K, p)\n",
    "    predictions.append(pred)"
   ]
  },
  {
   "cell_type": "code",
   "execution_count": 14,
   "id": "61f8e8ee",
   "metadata": {
    "execution": {
     "iopub.execute_input": "2023-05-15T16:08:03.040650Z",
     "iopub.status.busy": "2023-05-15T16:08:03.040143Z",
     "iopub.status.idle": "2023-05-15T16:08:03.057493Z",
     "shell.execute_reply": "2023-05-15T16:08:03.056124Z"
    },
    "papermill": {
     "duration": 0.029333,
     "end_time": "2023-05-15T16:08:03.060217",
     "exception": false,
     "start_time": "2023-05-15T16:08:03.030884",
     "status": "completed"
    },
    "tags": []
   },
   "outputs": [
    {
     "name": "stdout",
     "output_type": "stream",
     "text": [
      "Your submission was successfully saved!\n"
     ]
    }
   ],
   "source": [
    "\n",
    "submission_df = pd.DataFrame({'Id': test_df['Id'], 'Category': predictions})\n",
    "submission_df.to_csv('submission.csv', index=False)\n",
    "print(\"Your submission was successfully saved!\")"
   ]
  }
 ],
 "metadata": {
  "kernelspec": {
   "display_name": "Python 3",
   "language": "python",
   "name": "python3"
  },
  "language_info": {
   "codemirror_mode": {
    "name": "ipython",
    "version": 3
   },
   "file_extension": ".py",
   "mimetype": "text/x-python",
   "name": "python",
   "nbconvert_exporter": "python",
   "pygments_lexer": "ipython3",
   "version": "3.10.10"
  },
  "papermill": {
   "default_parameters": {},
   "duration": 16.715026,
   "end_time": "2023-05-15T16:08:04.293714",
   "environment_variables": {},
   "exception": null,
   "input_path": "__notebook__.ipynb",
   "output_path": "__notebook__.ipynb",
   "parameters": {},
   "start_time": "2023-05-15T16:07:47.578688",
   "version": "2.4.0"
  }
 },
 "nbformat": 4,
 "nbformat_minor": 5
}
