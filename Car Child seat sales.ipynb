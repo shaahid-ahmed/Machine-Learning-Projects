{
 "cells": [
  {
   "cell_type": "code",
   "execution_count": 1,
   "id": "86b6f6d1",
   "metadata": {
    "_cell_guid": "b1076dfc-b9ad-4769-8c92-a6c4dae69d19",
    "_uuid": "8f2839f25d086af736a60e9eeb907d3b93b6e0e5",
    "execution": {
     "iopub.execute_input": "2023-05-24T19:33:39.794469Z",
     "iopub.status.busy": "2023-05-24T19:33:39.793988Z",
     "iopub.status.idle": "2023-05-24T19:33:41.488263Z",
     "shell.execute_reply": "2023-05-24T19:33:41.487149Z"
    },
    "papermill": {
     "duration": 1.703563,
     "end_time": "2023-05-24T19:33:41.490869",
     "exception": false,
     "start_time": "2023-05-24T19:33:39.787306",
     "status": "completed"
    },
    "tags": []
   },
   "outputs": [
    {
     "name": "stderr",
     "output_type": "stream",
     "text": [
      "/opt/conda/lib/python3.10/site-packages/scipy/__init__.py:146: UserWarning: A NumPy version >=1.16.5 and <1.23.0 is required for this version of SciPy (detected version 1.23.5\n",
      "  warnings.warn(f\"A NumPy version >={np_minversion} and <{np_maxversion}\"\n"
     ]
    },
    {
     "name": "stdout",
     "output_type": "stream",
     "text": [
      "/kaggle/input/car-child-seat-sales-b1/sample_submission.csv\n",
      "/kaggle/input/car-child-seat-sales-b1/train.csv\n",
      "/kaggle/input/car-child-seat-sales-b1/test.csv\n"
     ]
    }
   ],
   "source": [
    "# This Python 3 environment comes with many helpful analytics libraries installed\n",
    "# It is defined by the kaggle/python Docker image: https://github.com/kaggle/docker-python\n",
    "# For example, here's several helpful packages to load\n",
    "\n",
    "import numpy as np # linear algebra\n",
    "import pandas as pd # data processing, CSV file I/O (e.g. pd.read_csv)\n",
    "from sklearn.linear_model import LogisticRegression\n",
    "from sklearn.model_selection import train_test_split\n",
    "from sklearn.preprocessing import LabelEncoder\n",
    "# Input data files are available in the read-only \"../input/\" directory\n",
    "# For example, running this (by clicking run or pressing Shift+Enter) will list all files under the input directory\n",
    "\n",
    "import os\n",
    "for dirname, _, filenames in os.walk('/kaggle/input'):\n",
    "    for filename in filenames:\n",
    "        print(os.path.join(dirname, filename))\n",
    "\n",
    "# You can write up to 20GB to the current directory (/kaggle/working/) that gets preserved as output when you create a version using \"Save & Run All\" \n",
    "# You can also write temporary files to /kaggle/temp/, but they won't be saved outside of the current session"
   ]
  },
  {
   "cell_type": "code",
   "execution_count": 2,
   "id": "74bf7de3",
   "metadata": {
    "execution": {
     "iopub.execute_input": "2023-05-24T19:33:41.503226Z",
     "iopub.status.busy": "2023-05-24T19:33:41.502014Z",
     "iopub.status.idle": "2023-05-24T19:33:41.532916Z",
     "shell.execute_reply": "2023-05-24T19:33:41.531805Z"
    },
    "papermill": {
     "duration": 0.039667,
     "end_time": "2023-05-24T19:33:41.535579",
     "exception": false,
     "start_time": "2023-05-24T19:33:41.495912",
     "status": "completed"
    },
    "tags": []
   },
   "outputs": [],
   "source": [
    "train_data = pd.read_csv(\"/kaggle/input/car-child-seat-sales-b1/train.csv\")\n",
    "test_data = pd.read_csv(\"/kaggle/input/car-child-seat-sales-b1/test.csv\")"
   ]
  },
  {
   "cell_type": "code",
   "execution_count": 3,
   "id": "3b3c1353",
   "metadata": {
    "execution": {
     "iopub.execute_input": "2023-05-24T19:33:41.547347Z",
     "iopub.status.busy": "2023-05-24T19:33:41.546673Z",
     "iopub.status.idle": "2023-05-24T19:33:41.576955Z",
     "shell.execute_reply": "2023-05-24T19:33:41.575937Z"
    },
    "papermill": {
     "duration": 0.039171,
     "end_time": "2023-05-24T19:33:41.579540",
     "exception": false,
     "start_time": "2023-05-24T19:33:41.540369",
     "status": "completed"
    },
    "tags": []
   },
   "outputs": [],
   "source": [
    "train_data[\"Category\"] = pd.cut(train_data[\"totalSales\"], bins=[-float(\"inf\"), 5, 10, float(\"inf\")], labels=[1, 2, 3])\n",
    "target = train_data[\"Category\"]\n",
    "train_data = train_data.drop([\"ID\", \"totalSales\", \"Category\"], axis=1)"
   ]
  },
  {
   "cell_type": "code",
   "execution_count": 4,
   "id": "24012a7b",
   "metadata": {
    "execution": {
     "iopub.execute_input": "2023-05-24T19:33:41.591309Z",
     "iopub.status.busy": "2023-05-24T19:33:41.590674Z",
     "iopub.status.idle": "2023-05-24T19:33:41.627963Z",
     "shell.execute_reply": "2023-05-24T19:33:41.626688Z"
    },
    "papermill": {
     "duration": 0.046597,
     "end_time": "2023-05-24T19:33:41.630878",
     "exception": false,
     "start_time": "2023-05-24T19:33:41.584281",
     "status": "completed"
    },
    "tags": []
   },
   "outputs": [
    {
     "data": {
      "text/html": [
       "<div>\n",
       "<style scoped>\n",
       "    .dataframe tbody tr th:only-of-type {\n",
       "        vertical-align: middle;\n",
       "    }\n",
       "\n",
       "    .dataframe tbody tr th {\n",
       "        vertical-align: top;\n",
       "    }\n",
       "\n",
       "    .dataframe thead th {\n",
       "        text-align: right;\n",
       "    }\n",
       "</style>\n",
       "<table border=\"1\" class=\"dataframe\">\n",
       "  <thead>\n",
       "    <tr style=\"text-align: right;\">\n",
       "      <th></th>\n",
       "      <th>CompetitorPrice</th>\n",
       "      <th>Income</th>\n",
       "      <th>Advertising</th>\n",
       "      <th>Population</th>\n",
       "      <th>Price</th>\n",
       "      <th>Location</th>\n",
       "      <th>Age</th>\n",
       "      <th>Education</th>\n",
       "      <th>Urban</th>\n",
       "      <th>US</th>\n",
       "    </tr>\n",
       "  </thead>\n",
       "  <tbody>\n",
       "    <tr>\n",
       "      <th>0</th>\n",
       "      <td>131</td>\n",
       "      <td>29</td>\n",
       "      <td>11</td>\n",
       "      <td>335</td>\n",
       "      <td>127</td>\n",
       "      <td>0</td>\n",
       "      <td>33</td>\n",
       "      <td>12</td>\n",
       "      <td>1</td>\n",
       "      <td>1</td>\n",
       "    </tr>\n",
       "    <tr>\n",
       "      <th>1</th>\n",
       "      <td>148</td>\n",
       "      <td>51</td>\n",
       "      <td>16</td>\n",
       "      <td>148</td>\n",
       "      <td>150</td>\n",
       "      <td>2</td>\n",
       "      <td>58</td>\n",
       "      <td>17</td>\n",
       "      <td>0</td>\n",
       "      <td>1</td>\n",
       "    </tr>\n",
       "    <tr>\n",
       "      <th>2</th>\n",
       "      <td>118</td>\n",
       "      <td>71</td>\n",
       "      <td>12</td>\n",
       "      <td>44</td>\n",
       "      <td>89</td>\n",
       "      <td>2</td>\n",
       "      <td>67</td>\n",
       "      <td>18</td>\n",
       "      <td>0</td>\n",
       "      <td>1</td>\n",
       "    </tr>\n",
       "    <tr>\n",
       "      <th>3</th>\n",
       "      <td>86</td>\n",
       "      <td>54</td>\n",
       "      <td>0</td>\n",
       "      <td>497</td>\n",
       "      <td>64</td>\n",
       "      <td>0</td>\n",
       "      <td>33</td>\n",
       "      <td>12</td>\n",
       "      <td>1</td>\n",
       "      <td>0</td>\n",
       "    </tr>\n",
       "    <tr>\n",
       "      <th>4</th>\n",
       "      <td>113</td>\n",
       "      <td>66</td>\n",
       "      <td>16</td>\n",
       "      <td>322</td>\n",
       "      <td>74</td>\n",
       "      <td>1</td>\n",
       "      <td>76</td>\n",
       "      <td>15</td>\n",
       "      <td>1</td>\n",
       "      <td>1</td>\n",
       "    </tr>\n",
       "    <tr>\n",
       "      <th>...</th>\n",
       "      <td>...</td>\n",
       "      <td>...</td>\n",
       "      <td>...</td>\n",
       "      <td>...</td>\n",
       "      <td>...</td>\n",
       "      <td>...</td>\n",
       "      <td>...</td>\n",
       "      <td>...</td>\n",
       "      <td>...</td>\n",
       "      <td>...</td>\n",
       "    </tr>\n",
       "    <tr>\n",
       "      <th>344</th>\n",
       "      <td>138</td>\n",
       "      <td>61</td>\n",
       "      <td>12</td>\n",
       "      <td>156</td>\n",
       "      <td>120</td>\n",
       "      <td>2</td>\n",
       "      <td>25</td>\n",
       "      <td>14</td>\n",
       "      <td>1</td>\n",
       "      <td>1</td>\n",
       "    </tr>\n",
       "    <tr>\n",
       "      <th>345</th>\n",
       "      <td>130</td>\n",
       "      <td>58</td>\n",
       "      <td>19</td>\n",
       "      <td>366</td>\n",
       "      <td>139</td>\n",
       "      <td>0</td>\n",
       "      <td>33</td>\n",
       "      <td>16</td>\n",
       "      <td>1</td>\n",
       "      <td>1</td>\n",
       "    </tr>\n",
       "    <tr>\n",
       "      <th>346</th>\n",
       "      <td>144</td>\n",
       "      <td>69</td>\n",
       "      <td>11</td>\n",
       "      <td>131</td>\n",
       "      <td>104</td>\n",
       "      <td>2</td>\n",
       "      <td>47</td>\n",
       "      <td>11</td>\n",
       "      <td>1</td>\n",
       "      <td>1</td>\n",
       "    </tr>\n",
       "    <tr>\n",
       "      <th>347</th>\n",
       "      <td>129</td>\n",
       "      <td>76</td>\n",
       "      <td>16</td>\n",
       "      <td>58</td>\n",
       "      <td>121</td>\n",
       "      <td>2</td>\n",
       "      <td>69</td>\n",
       "      <td>12</td>\n",
       "      <td>1</td>\n",
       "      <td>1</td>\n",
       "    </tr>\n",
       "    <tr>\n",
       "      <th>348</th>\n",
       "      <td>121</td>\n",
       "      <td>42</td>\n",
       "      <td>4</td>\n",
       "      <td>188</td>\n",
       "      <td>118</td>\n",
       "      <td>2</td>\n",
       "      <td>54</td>\n",
       "      <td>15</td>\n",
       "      <td>1</td>\n",
       "      <td>1</td>\n",
       "    </tr>\n",
       "  </tbody>\n",
       "</table>\n",
       "<p>349 rows × 10 columns</p>\n",
       "</div>"
      ],
      "text/plain": [
       "     CompetitorPrice  Income  Advertising  Population  Price  Location  Age  \\\n",
       "0                131      29           11         335    127         0   33   \n",
       "1                148      51           16         148    150         2   58   \n",
       "2                118      71           12          44     89         2   67   \n",
       "3                 86      54            0         497     64         0   33   \n",
       "4                113      66           16         322     74         1   76   \n",
       "..               ...     ...          ...         ...    ...       ...  ...   \n",
       "344              138      61           12         156    120         2   25   \n",
       "345              130      58           19         366    139         0   33   \n",
       "346              144      69           11         131    104         2   47   \n",
       "347              129      76           16          58    121         2   69   \n",
       "348              121      42            4         188    118         2   54   \n",
       "\n",
       "     Education  Urban  US  \n",
       "0           12      1   1  \n",
       "1           17      0   1  \n",
       "2           18      0   1  \n",
       "3           12      1   0  \n",
       "4           15      1   1  \n",
       "..         ...    ...  ..  \n",
       "344         14      1   1  \n",
       "345         16      1   1  \n",
       "346         11      1   1  \n",
       "347         12      1   1  \n",
       "348         15      1   1  \n",
       "\n",
       "[349 rows x 10 columns]"
      ]
     },
     "execution_count": 4,
     "metadata": {},
     "output_type": "execute_result"
    }
   ],
   "source": [
    "categorical_cols = [\"Location\", \"Urban\", \"US\"]\n",
    "label_encoders = {}\n",
    "for col in categorical_cols:\n",
    "    label_encoders[col] = LabelEncoder()\n",
    "    train_data[col] = label_encoders[col].fit_transform(train_data[col])\n",
    "    test_data[col] = label_encoders[col].transform(test_data[col])\n",
    "train_data"
   ]
  },
  {
   "cell_type": "code",
   "execution_count": 5,
   "id": "2558b529",
   "metadata": {
    "execution": {
     "iopub.execute_input": "2023-05-24T19:33:41.643698Z",
     "iopub.status.busy": "2023-05-24T19:33:41.642592Z",
     "iopub.status.idle": "2023-05-24T19:33:41.649911Z",
     "shell.execute_reply": "2023-05-24T19:33:41.648957Z"
    },
    "papermill": {
     "duration": 0.016482,
     "end_time": "2023-05-24T19:33:41.652531",
     "exception": false,
     "start_time": "2023-05-24T19:33:41.636049",
     "status": "completed"
    },
    "tags": []
   },
   "outputs": [],
   "source": [
    "X_train, X_val, y_train, y_val = train_test_split(train_data, target, test_size=0.47, random_state=42)"
   ]
  },
  {
   "cell_type": "code",
   "execution_count": 6,
   "id": "5e8f772b",
   "metadata": {
    "execution": {
     "iopub.execute_input": "2023-05-24T19:33:41.665304Z",
     "iopub.status.busy": "2023-05-24T19:33:41.664600Z",
     "iopub.status.idle": "2023-05-24T19:33:42.035431Z",
     "shell.execute_reply": "2023-05-24T19:33:42.034477Z"
    },
    "papermill": {
     "duration": 0.380214,
     "end_time": "2023-05-24T19:33:42.038019",
     "exception": false,
     "start_time": "2023-05-24T19:33:41.657805",
     "status": "completed"
    },
    "tags": []
   },
   "outputs": [
    {
     "data": {
      "text/html": [
       "<style>#sk-container-id-1 {color: black;background-color: white;}#sk-container-id-1 pre{padding: 0;}#sk-container-id-1 div.sk-toggleable {background-color: white;}#sk-container-id-1 label.sk-toggleable__label {cursor: pointer;display: block;width: 100%;margin-bottom: 0;padding: 0.3em;box-sizing: border-box;text-align: center;}#sk-container-id-1 label.sk-toggleable__label-arrow:before {content: \"▸\";float: left;margin-right: 0.25em;color: #696969;}#sk-container-id-1 label.sk-toggleable__label-arrow:hover:before {color: black;}#sk-container-id-1 div.sk-estimator:hover label.sk-toggleable__label-arrow:before {color: black;}#sk-container-id-1 div.sk-toggleable__content {max-height: 0;max-width: 0;overflow: hidden;text-align: left;background-color: #f0f8ff;}#sk-container-id-1 div.sk-toggleable__content pre {margin: 0.2em;color: black;border-radius: 0.25em;background-color: #f0f8ff;}#sk-container-id-1 input.sk-toggleable__control:checked~div.sk-toggleable__content {max-height: 200px;max-width: 100%;overflow: auto;}#sk-container-id-1 input.sk-toggleable__control:checked~label.sk-toggleable__label-arrow:before {content: \"▾\";}#sk-container-id-1 div.sk-estimator input.sk-toggleable__control:checked~label.sk-toggleable__label {background-color: #d4ebff;}#sk-container-id-1 div.sk-label input.sk-toggleable__control:checked~label.sk-toggleable__label {background-color: #d4ebff;}#sk-container-id-1 input.sk-hidden--visually {border: 0;clip: rect(1px 1px 1px 1px);clip: rect(1px, 1px, 1px, 1px);height: 1px;margin: -1px;overflow: hidden;padding: 0;position: absolute;width: 1px;}#sk-container-id-1 div.sk-estimator {font-family: monospace;background-color: #f0f8ff;border: 1px dotted black;border-radius: 0.25em;box-sizing: border-box;margin-bottom: 0.5em;}#sk-container-id-1 div.sk-estimator:hover {background-color: #d4ebff;}#sk-container-id-1 div.sk-parallel-item::after {content: \"\";width: 100%;border-bottom: 1px solid gray;flex-grow: 1;}#sk-container-id-1 div.sk-label:hover label.sk-toggleable__label {background-color: #d4ebff;}#sk-container-id-1 div.sk-serial::before {content: \"\";position: absolute;border-left: 1px solid gray;box-sizing: border-box;top: 0;bottom: 0;left: 50%;z-index: 0;}#sk-container-id-1 div.sk-serial {display: flex;flex-direction: column;align-items: center;background-color: white;padding-right: 0.2em;padding-left: 0.2em;position: relative;}#sk-container-id-1 div.sk-item {position: relative;z-index: 1;}#sk-container-id-1 div.sk-parallel {display: flex;align-items: stretch;justify-content: center;background-color: white;position: relative;}#sk-container-id-1 div.sk-item::before, #sk-container-id-1 div.sk-parallel-item::before {content: \"\";position: absolute;border-left: 1px solid gray;box-sizing: border-box;top: 0;bottom: 0;left: 50%;z-index: -1;}#sk-container-id-1 div.sk-parallel-item {display: flex;flex-direction: column;z-index: 1;position: relative;background-color: white;}#sk-container-id-1 div.sk-parallel-item:first-child::after {align-self: flex-end;width: 50%;}#sk-container-id-1 div.sk-parallel-item:last-child::after {align-self: flex-start;width: 50%;}#sk-container-id-1 div.sk-parallel-item:only-child::after {width: 0;}#sk-container-id-1 div.sk-dashed-wrapped {border: 1px dashed gray;margin: 0 0.4em 0.5em 0.4em;box-sizing: border-box;padding-bottom: 0.4em;background-color: white;}#sk-container-id-1 div.sk-label label {font-family: monospace;font-weight: bold;display: inline-block;line-height: 1.2em;}#sk-container-id-1 div.sk-label-container {text-align: center;}#sk-container-id-1 div.sk-container {/* jupyter's `normalize.less` sets `[hidden] { display: none; }` but bootstrap.min.css set `[hidden] { display: none !important; }` so we also need the `!important` here to be able to override the default hidden behavior on the sphinx rendered scikit-learn.org. See: https://github.com/scikit-learn/scikit-learn/issues/21755 */display: inline-block !important;position: relative;}#sk-container-id-1 div.sk-text-repr-fallback {display: none;}</style><div id=\"sk-container-id-1\" class=\"sk-top-container\"><div class=\"sk-text-repr-fallback\"><pre>LogisticRegression(max_iter=10000)</pre><b>In a Jupyter environment, please rerun this cell to show the HTML representation or trust the notebook. <br />On GitHub, the HTML representation is unable to render, please try loading this page with nbviewer.org.</b></div><div class=\"sk-container\" hidden><div class=\"sk-item\"><div class=\"sk-estimator sk-toggleable\"><input class=\"sk-toggleable__control sk-hidden--visually\" id=\"sk-estimator-id-1\" type=\"checkbox\" checked><label for=\"sk-estimator-id-1\" class=\"sk-toggleable__label sk-toggleable__label-arrow\">LogisticRegression</label><div class=\"sk-toggleable__content\"><pre>LogisticRegression(max_iter=10000)</pre></div></div></div></div></div>"
      ],
      "text/plain": [
       "LogisticRegression(max_iter=10000)"
      ]
     },
     "execution_count": 6,
     "metadata": {},
     "output_type": "execute_result"
    }
   ],
   "source": [
    "logreg = LogisticRegression(max_iter=10000)\n",
    "logreg.fit(X_train, y_train)"
   ]
  },
  {
   "cell_type": "code",
   "execution_count": 7,
   "id": "65016148",
   "metadata": {
    "execution": {
     "iopub.execute_input": "2023-05-24T19:33:42.051717Z",
     "iopub.status.busy": "2023-05-24T19:33:42.050953Z",
     "iopub.status.idle": "2023-05-24T19:33:42.058417Z",
     "shell.execute_reply": "2023-05-24T19:33:42.056922Z"
    },
    "papermill": {
     "duration": 0.017495,
     "end_time": "2023-05-24T19:33:42.061308",
     "exception": false,
     "start_time": "2023-05-24T19:33:42.043813",
     "status": "completed"
    },
    "tags": []
   },
   "outputs": [],
   "source": [
    "val_predictions = logreg.predict(X_val)"
   ]
  },
  {
   "cell_type": "code",
   "execution_count": 8,
   "id": "b467871f",
   "metadata": {
    "execution": {
     "iopub.execute_input": "2023-05-24T19:33:42.074502Z",
     "iopub.status.busy": "2023-05-24T19:33:42.073854Z",
     "iopub.status.idle": "2023-05-24T19:33:42.081949Z",
     "shell.execute_reply": "2023-05-24T19:33:42.080593Z"
    },
    "papermill": {
     "duration": 0.017769,
     "end_time": "2023-05-24T19:33:42.084607",
     "exception": false,
     "start_time": "2023-05-24T19:33:42.066838",
     "status": "completed"
    },
    "tags": []
   },
   "outputs": [
    {
     "name": "stdout",
     "output_type": "stream",
     "text": [
      "Validation Accuracy: 0.6787878787878788\n"
     ]
    }
   ],
   "source": [
    "accuracy = (val_predictions == y_val).mean()\n",
    "print(\"Validation Accuracy:\", accuracy)"
   ]
  },
  {
   "cell_type": "code",
   "execution_count": 9,
   "id": "e90527c3",
   "metadata": {
    "execution": {
     "iopub.execute_input": "2023-05-24T19:33:42.097886Z",
     "iopub.status.busy": "2023-05-24T19:33:42.097468Z",
     "iopub.status.idle": "2023-05-24T19:33:42.912711Z",
     "shell.execute_reply": "2023-05-24T19:33:42.911469Z"
    },
    "papermill": {
     "duration": 0.825219,
     "end_time": "2023-05-24T19:33:42.915432",
     "exception": false,
     "start_time": "2023-05-24T19:33:42.090213",
     "status": "completed"
    },
    "tags": []
   },
   "outputs": [
    {
     "data": {
      "text/html": [
       "<style>#sk-container-id-2 {color: black;background-color: white;}#sk-container-id-2 pre{padding: 0;}#sk-container-id-2 div.sk-toggleable {background-color: white;}#sk-container-id-2 label.sk-toggleable__label {cursor: pointer;display: block;width: 100%;margin-bottom: 0;padding: 0.3em;box-sizing: border-box;text-align: center;}#sk-container-id-2 label.sk-toggleable__label-arrow:before {content: \"▸\";float: left;margin-right: 0.25em;color: #696969;}#sk-container-id-2 label.sk-toggleable__label-arrow:hover:before {color: black;}#sk-container-id-2 div.sk-estimator:hover label.sk-toggleable__label-arrow:before {color: black;}#sk-container-id-2 div.sk-toggleable__content {max-height: 0;max-width: 0;overflow: hidden;text-align: left;background-color: #f0f8ff;}#sk-container-id-2 div.sk-toggleable__content pre {margin: 0.2em;color: black;border-radius: 0.25em;background-color: #f0f8ff;}#sk-container-id-2 input.sk-toggleable__control:checked~div.sk-toggleable__content {max-height: 200px;max-width: 100%;overflow: auto;}#sk-container-id-2 input.sk-toggleable__control:checked~label.sk-toggleable__label-arrow:before {content: \"▾\";}#sk-container-id-2 div.sk-estimator input.sk-toggleable__control:checked~label.sk-toggleable__label {background-color: #d4ebff;}#sk-container-id-2 div.sk-label input.sk-toggleable__control:checked~label.sk-toggleable__label {background-color: #d4ebff;}#sk-container-id-2 input.sk-hidden--visually {border: 0;clip: rect(1px 1px 1px 1px);clip: rect(1px, 1px, 1px, 1px);height: 1px;margin: -1px;overflow: hidden;padding: 0;position: absolute;width: 1px;}#sk-container-id-2 div.sk-estimator {font-family: monospace;background-color: #f0f8ff;border: 1px dotted black;border-radius: 0.25em;box-sizing: border-box;margin-bottom: 0.5em;}#sk-container-id-2 div.sk-estimator:hover {background-color: #d4ebff;}#sk-container-id-2 div.sk-parallel-item::after {content: \"\";width: 100%;border-bottom: 1px solid gray;flex-grow: 1;}#sk-container-id-2 div.sk-label:hover label.sk-toggleable__label {background-color: #d4ebff;}#sk-container-id-2 div.sk-serial::before {content: \"\";position: absolute;border-left: 1px solid gray;box-sizing: border-box;top: 0;bottom: 0;left: 50%;z-index: 0;}#sk-container-id-2 div.sk-serial {display: flex;flex-direction: column;align-items: center;background-color: white;padding-right: 0.2em;padding-left: 0.2em;position: relative;}#sk-container-id-2 div.sk-item {position: relative;z-index: 1;}#sk-container-id-2 div.sk-parallel {display: flex;align-items: stretch;justify-content: center;background-color: white;position: relative;}#sk-container-id-2 div.sk-item::before, #sk-container-id-2 div.sk-parallel-item::before {content: \"\";position: absolute;border-left: 1px solid gray;box-sizing: border-box;top: 0;bottom: 0;left: 50%;z-index: -1;}#sk-container-id-2 div.sk-parallel-item {display: flex;flex-direction: column;z-index: 1;position: relative;background-color: white;}#sk-container-id-2 div.sk-parallel-item:first-child::after {align-self: flex-end;width: 50%;}#sk-container-id-2 div.sk-parallel-item:last-child::after {align-self: flex-start;width: 50%;}#sk-container-id-2 div.sk-parallel-item:only-child::after {width: 0;}#sk-container-id-2 div.sk-dashed-wrapped {border: 1px dashed gray;margin: 0 0.4em 0.5em 0.4em;box-sizing: border-box;padding-bottom: 0.4em;background-color: white;}#sk-container-id-2 div.sk-label label {font-family: monospace;font-weight: bold;display: inline-block;line-height: 1.2em;}#sk-container-id-2 div.sk-label-container {text-align: center;}#sk-container-id-2 div.sk-container {/* jupyter's `normalize.less` sets `[hidden] { display: none; }` but bootstrap.min.css set `[hidden] { display: none !important; }` so we also need the `!important` here to be able to override the default hidden behavior on the sphinx rendered scikit-learn.org. See: https://github.com/scikit-learn/scikit-learn/issues/21755 */display: inline-block !important;position: relative;}#sk-container-id-2 div.sk-text-repr-fallback {display: none;}</style><div id=\"sk-container-id-2\" class=\"sk-top-container\"><div class=\"sk-text-repr-fallback\"><pre>LogisticRegression(max_iter=10000)</pre><b>In a Jupyter environment, please rerun this cell to show the HTML representation or trust the notebook. <br />On GitHub, the HTML representation is unable to render, please try loading this page with nbviewer.org.</b></div><div class=\"sk-container\" hidden><div class=\"sk-item\"><div class=\"sk-estimator sk-toggleable\"><input class=\"sk-toggleable__control sk-hidden--visually\" id=\"sk-estimator-id-2\" type=\"checkbox\" checked><label for=\"sk-estimator-id-2\" class=\"sk-toggleable__label sk-toggleable__label-arrow\">LogisticRegression</label><div class=\"sk-toggleable__content\"><pre>LogisticRegression(max_iter=10000)</pre></div></div></div></div></div>"
      ],
      "text/plain": [
       "LogisticRegression(max_iter=10000)"
      ]
     },
     "execution_count": 9,
     "metadata": {},
     "output_type": "execute_result"
    }
   ],
   "source": [
    "logreg_final = LogisticRegression(max_iter=10000)\n",
    "logreg_final.fit(train_data, target)"
   ]
  },
  {
   "cell_type": "code",
   "execution_count": 10,
   "id": "e2a70e1b",
   "metadata": {
    "execution": {
     "iopub.execute_input": "2023-05-24T19:33:42.929966Z",
     "iopub.status.busy": "2023-05-24T19:33:42.929119Z",
     "iopub.status.idle": "2023-05-24T19:33:42.938989Z",
     "shell.execute_reply": "2023-05-24T19:33:42.937688Z"
    },
    "papermill": {
     "duration": 0.020167,
     "end_time": "2023-05-24T19:33:42.941443",
     "exception": false,
     "start_time": "2023-05-24T19:33:42.921276",
     "status": "completed"
    },
    "tags": []
   },
   "outputs": [],
   "source": [
    "test_data[\"Category\"] = logreg_final.predict(test_data.drop(\"ID\", axis=1))"
   ]
  },
  {
   "cell_type": "code",
   "execution_count": 11,
   "id": "fe799426",
   "metadata": {
    "execution": {
     "iopub.execute_input": "2023-05-24T19:33:42.954869Z",
     "iopub.status.busy": "2023-05-24T19:33:42.954458Z",
     "iopub.status.idle": "2023-05-24T19:33:42.967344Z",
     "shell.execute_reply": "2023-05-24T19:33:42.966056Z"
    },
    "papermill": {
     "duration": 0.023012,
     "end_time": "2023-05-24T19:33:42.970191",
     "exception": false,
     "start_time": "2023-05-24T19:33:42.947179",
     "status": "completed"
    },
    "tags": []
   },
   "outputs": [],
   "source": [
    "submission = test_data[[\"ID\", \"Category\"]]\n",
    "submission.to_csv(\"submission.csv\", index=False)"
   ]
  }
 ],
 "metadata": {
  "kernelspec": {
   "display_name": "Python 3",
   "language": "python",
   "name": "python3"
  },
  "language_info": {
   "codemirror_mode": {
    "name": "ipython",
    "version": 3
   },
   "file_extension": ".py",
   "mimetype": "text/x-python",
   "name": "python",
   "nbconvert_exporter": "python",
   "pygments_lexer": "ipython3",
   "version": "3.10.10"
  },
  "papermill": {
   "default_parameters": {},
   "duration": 19.628067,
   "end_time": "2023-05-24T19:33:43.999246",
   "environment_variables": {},
   "exception": null,
   "input_path": "__notebook__.ipynb",
   "output_path": "__notebook__.ipynb",
   "parameters": {},
   "start_time": "2023-05-24T19:33:24.371179",
   "version": "2.4.0"
  }
 },
 "nbformat": 4,
 "nbformat_minor": 5
}
