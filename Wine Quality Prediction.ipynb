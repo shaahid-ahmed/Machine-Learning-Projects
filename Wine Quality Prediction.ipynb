{
 "cells": [
  {
   "cell_type": "code",
   "execution_count": 1,
   "id": "ed40362a",
   "metadata": {
    "_cell_guid": "b1076dfc-b9ad-4769-8c92-a6c4dae69d19",
    "_uuid": "8f2839f25d086af736a60e9eeb907d3b93b6e0e5",
    "execution": {
     "iopub.execute_input": "2023-07-03T20:54:23.115316Z",
     "iopub.status.busy": "2023-07-03T20:54:23.114755Z",
     "iopub.status.idle": "2023-07-03T20:54:25.914414Z",
     "shell.execute_reply": "2023-07-03T20:54:25.913395Z"
    },
    "papermill": {
     "duration": 2.818607,
     "end_time": "2023-07-03T20:54:25.919279",
     "exception": false,
     "start_time": "2023-07-03T20:54:23.100672",
     "status": "completed"
    },
    "tags": []
   },
   "outputs": [
    {
     "name": "stdout",
     "output_type": "stream",
     "text": [
      "/kaggle/input/wine-quality-prediction-b1/train.csv\n",
      "/kaggle/input/wine-quality-prediction-b1/test.csv\n",
      "/kaggle/input/wine-quality-prediction-b1/sample_submissionfile.csv\n"
     ]
    }
   ],
   "source": [
    "# This Python 3 environment comes with many helpful analytics libraries installed\n",
    "# It is defined by the kaggle/python Docker image: https://github.com/kaggle/docker-python\n",
    "# For example, here's several helpful packages to load\n",
    "\n",
    "import numpy as np # linear algebra\n",
    "import pandas as pd # data processing, CSV file I/O (e.g. pd.read_csv)\n",
    "from sklearn.model_selection import train_test_split\n",
    "from sklearn.preprocessing import MinMaxScaler,StandardScaler\n",
    "from sklearn.feature_selection import VarianceThreshold, SelectKBest, chi2\n",
    "from sklearn.feature_selection import RFE\n",
    "from sklearn.ensemble import RandomForestClassifier,AdaBoostClassifier\n",
    "from sklearn.ensemble import GradientBoostingClassifier ,StackingClassifier\n",
    "from sklearn.neural_network import MLPClassifier\n",
    "from sklearn.svm import SVC\n",
    "from sklearn.metrics import f1_score\n",
    "from sklearn.metrics import accuracy_score, confusion_matrix\n",
    "from sklearn.feature_selection import RFECV\n",
    "from sklearn.model_selection import StratifiedKFold\n",
    "import matplotlib.pyplot as plt\n",
    "import seaborn as sns\n",
    "from sklearn.neighbors import KNeighborsClassifier\n",
    "# Input data files are available in the read-only \"../input/\" directory\n",
    "# For example, running this (by clicking run or pressing Shift+Enter) will list all files under the input directory\n",
    "\n",
    "import os\n",
    "for dirname, _, filenames in os.walk('/kaggle/input'):\n",
    "    for filename in filenames:\n",
    "        print(os.path.join(dirname, filename))\n",
    "\n",
    "# You can write up to 20GB to the current directory (/kaggle/working/) that gets preserved as output when you create a version using \"Save & Run All\" \n",
    "# You can also write temporary files to /kaggle/temp/, but they won't be saved outside of the current session"
   ]
  },
  {
   "cell_type": "code",
   "execution_count": 2,
   "id": "40b12fc9",
   "metadata": {
    "execution": {
     "iopub.execute_input": "2023-07-03T20:54:25.940484Z",
     "iopub.status.busy": "2023-07-03T20:54:25.939079Z",
     "iopub.status.idle": "2023-07-03T20:54:25.990915Z",
     "shell.execute_reply": "2023-07-03T20:54:25.989414Z"
    },
    "papermill": {
     "duration": 0.065205,
     "end_time": "2023-07-03T20:54:25.993887",
     "exception": false,
     "start_time": "2023-07-03T20:54:25.928682",
     "status": "completed"
    },
    "tags": []
   },
   "outputs": [],
   "source": [
    "train_data=pd.read_csv('/kaggle/input/wine-quality-prediction-b1/train.csv')\n",
    "test_data=pd.read_csv('/kaggle/input/wine-quality-prediction-b1/test.csv')"
   ]
  },
  {
   "cell_type": "code",
   "execution_count": 3,
   "id": "cf025a38",
   "metadata": {
    "execution": {
     "iopub.execute_input": "2023-07-03T20:54:26.015784Z",
     "iopub.status.busy": "2023-07-03T20:54:26.015117Z",
     "iopub.status.idle": "2023-07-03T20:54:26.060675Z",
     "shell.execute_reply": "2023-07-03T20:54:26.059422Z"
    },
    "papermill": {
     "duration": 0.059627,
     "end_time": "2023-07-03T20:54:26.063342",
     "exception": false,
     "start_time": "2023-07-03T20:54:26.003715",
     "status": "completed"
    },
    "tags": []
   },
   "outputs": [
    {
     "data": {
      "text/html": [
       "<div>\n",
       "<style scoped>\n",
       "    .dataframe tbody tr th:only-of-type {\n",
       "        vertical-align: middle;\n",
       "    }\n",
       "\n",
       "    .dataframe tbody tr th {\n",
       "        vertical-align: top;\n",
       "    }\n",
       "\n",
       "    .dataframe thead th {\n",
       "        text-align: right;\n",
       "    }\n",
       "</style>\n",
       "<table border=\"1\" class=\"dataframe\">\n",
       "  <thead>\n",
       "    <tr style=\"text-align: right;\">\n",
       "      <th></th>\n",
       "      <th>ID</th>\n",
       "      <th>fixed acidity</th>\n",
       "      <th>volatile acidity</th>\n",
       "      <th>citric acid</th>\n",
       "      <th>residual sugar</th>\n",
       "      <th>chlorides</th>\n",
       "      <th>free sulfur dioxide</th>\n",
       "      <th>total sulfur dioxide</th>\n",
       "      <th>density</th>\n",
       "      <th>pH</th>\n",
       "      <th>sulphates</th>\n",
       "      <th>alcohol</th>\n",
       "      <th>Quality</th>\n",
       "    </tr>\n",
       "  </thead>\n",
       "  <tbody>\n",
       "    <tr>\n",
       "      <th>0</th>\n",
       "      <td>1</td>\n",
       "      <td>7.1</td>\n",
       "      <td>0.29</td>\n",
       "      <td>0.30</td>\n",
       "      <td>16.0</td>\n",
       "      <td>0.036</td>\n",
       "      <td>58.0</td>\n",
       "      <td>201.0</td>\n",
       "      <td>0.99954</td>\n",
       "      <td>3.30</td>\n",
       "      <td>0.67</td>\n",
       "      <td>9.0</td>\n",
       "      <td>5</td>\n",
       "    </tr>\n",
       "    <tr>\n",
       "      <th>1</th>\n",
       "      <td>2</td>\n",
       "      <td>6.8</td>\n",
       "      <td>0.23</td>\n",
       "      <td>0.31</td>\n",
       "      <td>2.8</td>\n",
       "      <td>0.047</td>\n",
       "      <td>40.0</td>\n",
       "      <td>122.0</td>\n",
       "      <td>0.99126</td>\n",
       "      <td>3.06</td>\n",
       "      <td>0.64</td>\n",
       "      <td>10.9</td>\n",
       "      <td>7</td>\n",
       "    </tr>\n",
       "    <tr>\n",
       "      <th>2</th>\n",
       "      <td>3</td>\n",
       "      <td>7.1</td>\n",
       "      <td>0.39</td>\n",
       "      <td>0.35</td>\n",
       "      <td>12.5</td>\n",
       "      <td>0.044</td>\n",
       "      <td>26.0</td>\n",
       "      <td>72.0</td>\n",
       "      <td>0.99410</td>\n",
       "      <td>3.17</td>\n",
       "      <td>0.29</td>\n",
       "      <td>11.6</td>\n",
       "      <td>5</td>\n",
       "    </tr>\n",
       "    <tr>\n",
       "      <th>3</th>\n",
       "      <td>4</td>\n",
       "      <td>6.4</td>\n",
       "      <td>0.17</td>\n",
       "      <td>0.27</td>\n",
       "      <td>9.9</td>\n",
       "      <td>0.047</td>\n",
       "      <td>26.0</td>\n",
       "      <td>101.0</td>\n",
       "      <td>0.99596</td>\n",
       "      <td>3.34</td>\n",
       "      <td>0.50</td>\n",
       "      <td>9.9</td>\n",
       "      <td>6</td>\n",
       "    </tr>\n",
       "    <tr>\n",
       "      <th>4</th>\n",
       "      <td>5</td>\n",
       "      <td>6.0</td>\n",
       "      <td>0.31</td>\n",
       "      <td>0.27</td>\n",
       "      <td>2.3</td>\n",
       "      <td>0.042</td>\n",
       "      <td>19.0</td>\n",
       "      <td>120.0</td>\n",
       "      <td>0.98952</td>\n",
       "      <td>3.32</td>\n",
       "      <td>0.41</td>\n",
       "      <td>12.7</td>\n",
       "      <td>7</td>\n",
       "    </tr>\n",
       "  </tbody>\n",
       "</table>\n",
       "</div>"
      ],
      "text/plain": [
       "   ID  fixed acidity  volatile acidity  citric acid  residual sugar  \\\n",
       "0   1            7.1              0.29         0.30            16.0   \n",
       "1   2            6.8              0.23         0.31             2.8   \n",
       "2   3            7.1              0.39         0.35            12.5   \n",
       "3   4            6.4              0.17         0.27             9.9   \n",
       "4   5            6.0              0.31         0.27             2.3   \n",
       "\n",
       "   chlorides  free sulfur dioxide  total sulfur dioxide  density    pH  \\\n",
       "0      0.036                 58.0                 201.0  0.99954  3.30   \n",
       "1      0.047                 40.0                 122.0  0.99126  3.06   \n",
       "2      0.044                 26.0                  72.0  0.99410  3.17   \n",
       "3      0.047                 26.0                 101.0  0.99596  3.34   \n",
       "4      0.042                 19.0                 120.0  0.98952  3.32   \n",
       "\n",
       "   sulphates  alcohol  Quality  \n",
       "0       0.67      9.0        5  \n",
       "1       0.64     10.9        7  \n",
       "2       0.29     11.6        5  \n",
       "3       0.50      9.9        6  \n",
       "4       0.41     12.7        7  "
      ]
     },
     "execution_count": 3,
     "metadata": {},
     "output_type": "execute_result"
    }
   ],
   "source": [
    "train_data.head()"
   ]
  },
  {
   "cell_type": "code",
   "execution_count": 4,
   "id": "530e18e8",
   "metadata": {
    "execution": {
     "iopub.execute_input": "2023-07-03T20:54:26.085155Z",
     "iopub.status.busy": "2023-07-03T20:54:26.084462Z",
     "iopub.status.idle": "2023-07-03T20:54:26.109160Z",
     "shell.execute_reply": "2023-07-03T20:54:26.107604Z"
    },
    "papermill": {
     "duration": 0.038885,
     "end_time": "2023-07-03T20:54:26.112167",
     "exception": false,
     "start_time": "2023-07-03T20:54:26.073282",
     "status": "completed"
    },
    "tags": []
   },
   "outputs": [
    {
     "data": {
      "text/html": [
       "<div>\n",
       "<style scoped>\n",
       "    .dataframe tbody tr th:only-of-type {\n",
       "        vertical-align: middle;\n",
       "    }\n",
       "\n",
       "    .dataframe tbody tr th {\n",
       "        vertical-align: top;\n",
       "    }\n",
       "\n",
       "    .dataframe thead th {\n",
       "        text-align: right;\n",
       "    }\n",
       "</style>\n",
       "<table border=\"1\" class=\"dataframe\">\n",
       "  <thead>\n",
       "    <tr style=\"text-align: right;\">\n",
       "      <th></th>\n",
       "      <th>ID</th>\n",
       "      <th>fixed acidity</th>\n",
       "      <th>volatile acidity</th>\n",
       "      <th>citric acid</th>\n",
       "      <th>residual sugar</th>\n",
       "      <th>chlorides</th>\n",
       "      <th>free sulfur dioxide</th>\n",
       "      <th>total sulfur dioxide</th>\n",
       "      <th>density</th>\n",
       "      <th>pH</th>\n",
       "      <th>sulphates</th>\n",
       "      <th>alcohol</th>\n",
       "    </tr>\n",
       "  </thead>\n",
       "  <tbody>\n",
       "    <tr>\n",
       "      <th>0</th>\n",
       "      <td>1</td>\n",
       "      <td>7.4</td>\n",
       "      <td>0.220</td>\n",
       "      <td>0.33</td>\n",
       "      <td>2.0</td>\n",
       "      <td>0.045</td>\n",
       "      <td>31.0</td>\n",
       "      <td>101.0</td>\n",
       "      <td>0.99310</td>\n",
       "      <td>3.42</td>\n",
       "      <td>0.55</td>\n",
       "      <td>11.4</td>\n",
       "    </tr>\n",
       "    <tr>\n",
       "      <th>1</th>\n",
       "      <td>2</td>\n",
       "      <td>5.6</td>\n",
       "      <td>0.295</td>\n",
       "      <td>0.26</td>\n",
       "      <td>1.1</td>\n",
       "      <td>0.035</td>\n",
       "      <td>40.0</td>\n",
       "      <td>102.0</td>\n",
       "      <td>0.99154</td>\n",
       "      <td>3.47</td>\n",
       "      <td>0.56</td>\n",
       "      <td>10.6</td>\n",
       "    </tr>\n",
       "    <tr>\n",
       "      <th>2</th>\n",
       "      <td>3</td>\n",
       "      <td>6.6</td>\n",
       "      <td>0.170</td>\n",
       "      <td>0.36</td>\n",
       "      <td>1.9</td>\n",
       "      <td>0.036</td>\n",
       "      <td>38.0</td>\n",
       "      <td>110.0</td>\n",
       "      <td>0.99056</td>\n",
       "      <td>3.05</td>\n",
       "      <td>0.54</td>\n",
       "      <td>11.4</td>\n",
       "    </tr>\n",
       "    <tr>\n",
       "      <th>3</th>\n",
       "      <td>4</td>\n",
       "      <td>6.9</td>\n",
       "      <td>0.280</td>\n",
       "      <td>0.37</td>\n",
       "      <td>9.1</td>\n",
       "      <td>0.037</td>\n",
       "      <td>16.0</td>\n",
       "      <td>76.0</td>\n",
       "      <td>0.99480</td>\n",
       "      <td>3.05</td>\n",
       "      <td>0.54</td>\n",
       "      <td>11.1</td>\n",
       "    </tr>\n",
       "    <tr>\n",
       "      <th>4</th>\n",
       "      <td>5</td>\n",
       "      <td>7.2</td>\n",
       "      <td>0.290</td>\n",
       "      <td>0.18</td>\n",
       "      <td>8.2</td>\n",
       "      <td>0.042</td>\n",
       "      <td>41.0</td>\n",
       "      <td>180.0</td>\n",
       "      <td>0.99644</td>\n",
       "      <td>3.16</td>\n",
       "      <td>0.49</td>\n",
       "      <td>9.1</td>\n",
       "    </tr>\n",
       "  </tbody>\n",
       "</table>\n",
       "</div>"
      ],
      "text/plain": [
       "   ID  fixed acidity  volatile acidity  citric acid  residual sugar  \\\n",
       "0   1            7.4             0.220         0.33             2.0   \n",
       "1   2            5.6             0.295         0.26             1.1   \n",
       "2   3            6.6             0.170         0.36             1.9   \n",
       "3   4            6.9             0.280         0.37             9.1   \n",
       "4   5            7.2             0.290         0.18             8.2   \n",
       "\n",
       "   chlorides  free sulfur dioxide  total sulfur dioxide  density    pH  \\\n",
       "0      0.045                 31.0                 101.0  0.99310  3.42   \n",
       "1      0.035                 40.0                 102.0  0.99154  3.47   \n",
       "2      0.036                 38.0                 110.0  0.99056  3.05   \n",
       "3      0.037                 16.0                  76.0  0.99480  3.05   \n",
       "4      0.042                 41.0                 180.0  0.99644  3.16   \n",
       "\n",
       "   sulphates  alcohol  \n",
       "0       0.55     11.4  \n",
       "1       0.56     10.6  \n",
       "2       0.54     11.4  \n",
       "3       0.54     11.1  \n",
       "4       0.49      9.1  "
      ]
     },
     "execution_count": 4,
     "metadata": {},
     "output_type": "execute_result"
    }
   ],
   "source": [
    "test_data.head()"
   ]
  },
  {
   "cell_type": "code",
   "execution_count": 5,
   "id": "17b474e5",
   "metadata": {
    "execution": {
     "iopub.execute_input": "2023-07-03T20:54:26.135351Z",
     "iopub.status.busy": "2023-07-03T20:54:26.134873Z",
     "iopub.status.idle": "2023-07-03T20:54:26.155049Z",
     "shell.execute_reply": "2023-07-03T20:54:26.153568Z"
    },
    "papermill": {
     "duration": 0.037048,
     "end_time": "2023-07-03T20:54:26.159260",
     "exception": false,
     "start_time": "2023-07-03T20:54:26.122212",
     "status": "completed"
    },
    "tags": []
   },
   "outputs": [],
   "source": [
    "X = train_data.drop(['ID','Quality'], axis=1)\n",
    "y = train_data['Quality']\n",
    "X_train, X_test, y_train, y_test = train_test_split(X, y,test_size=0.3,shuffle=True,stratify=y,random_state=42)"
   ]
  },
  {
   "cell_type": "code",
   "execution_count": 6,
   "id": "735405b9",
   "metadata": {
    "execution": {
     "iopub.execute_input": "2023-07-03T20:54:26.182002Z",
     "iopub.status.busy": "2023-07-03T20:54:26.181584Z",
     "iopub.status.idle": "2023-07-03T20:54:28.142466Z",
     "shell.execute_reply": "2023-07-03T20:54:28.141183Z"
    },
    "papermill": {
     "duration": 1.978091,
     "end_time": "2023-07-03T20:54:28.148039",
     "exception": false,
     "start_time": "2023-07-03T20:54:26.169948",
     "status": "completed"
    },
    "tags": []
   },
   "outputs": [
    {
     "data": {
      "image/png": "[encoded data removed]",
      "text/plain": [
       "<Figure size 1500x1000 with 6 Axes>"
      ]
     },
     "metadata": {},
     "output_type": "display_data"
    }
   ],
   "source": [
    "columns = train_data.columns[1:-1].tolist()\n",
    "fig, ax1 = plt.subplots(2, 3, figsize=(15, 10))\n",
    "k = 0\n",
    "for i in range(2):\n",
    "    for j in range(3):\n",
    "        if k != 11:\n",
    "            sns.boxplot(x=train_data['Quality'], y=train_data[columns[k]], ax=ax1[i][j])\n",
    "            k += 1\n",
    "plt.show()"
   ]
  },
  {
   "cell_type": "code",
   "execution_count": 7,
   "id": "8000d7f6",
   "metadata": {
    "execution": {
     "iopub.execute_input": "2023-07-03T20:54:28.184345Z",
     "iopub.status.busy": "2023-07-03T20:54:28.182814Z",
     "iopub.status.idle": "2023-07-03T20:54:28.196573Z",
     "shell.execute_reply": "2023-07-03T20:54:28.195193Z"
    },
    "papermill": {
     "duration": 0.035866,
     "end_time": "2023-07-03T20:54:28.200557",
     "exception": false,
     "start_time": "2023-07-03T20:54:28.164691",
     "status": "completed"
    },
    "tags": []
   },
   "outputs": [
    {
     "data": {
      "text/plain": [
       "fixed acidity              0.709098\n",
       "volatile acidity           0.010109\n",
       "citric acid                0.014570\n",
       "residual sugar            25.957759\n",
       "chlorides                  0.000465\n",
       "free sulfur dioxide      307.647639\n",
       "total sulfur dioxide    1887.082966\n",
       "density                    0.000009\n",
       "pH                         0.022596\n",
       "sulphates                  0.013377\n",
       "alcohol                    1.545560\n",
       "dtype: float64"
      ]
     },
     "execution_count": 7,
     "metadata": {},
     "output_type": "execute_result"
    }
   ],
   "source": [
    "X_train_v1 = X_train.copy()\n",
    "X_train_v1.var(axis=0)"
   ]
  },
  {
   "cell_type": "code",
   "execution_count": 8,
   "id": "3a8cca18",
   "metadata": {
    "execution": {
     "iopub.execute_input": "2023-07-03T20:54:28.230346Z",
     "iopub.status.busy": "2023-07-03T20:54:28.229908Z",
     "iopub.status.idle": "2023-07-03T20:54:28.256048Z",
     "shell.execute_reply": "2023-07-03T20:54:28.254546Z"
    },
    "papermill": {
     "duration": 0.045174,
     "end_time": "2023-07-03T20:54:28.259626",
     "exception": false,
     "start_time": "2023-07-03T20:54:28.214452",
     "status": "completed"
    },
    "tags": []
   },
   "outputs": [
    {
     "data": {
      "text/plain": [
       "fixed acidity           0.006556\n",
       "volatile acidity        0.009716\n",
       "citric acid             0.005288\n",
       "residual sugar          0.006106\n",
       "chlorides               0.004091\n",
       "free sulfur dioxide     0.003735\n",
       "total sulfur dioxide    0.010206\n",
       "density                 0.003440\n",
       "pH                      0.020110\n",
       "sulphates               0.018087\n",
       "alcohol                 0.042226\n",
       "dtype: float64"
      ]
     },
     "execution_count": 8,
     "metadata": {},
     "output_type": "execute_result"
    }
   ],
   "source": [
    "norm = MinMaxScaler().fit(X_train_v1)\n",
    "norm_X_train = norm.fit_transform(X_train_v1)\n",
    "norm_X_test=norm.transform(X_test)\n",
    "norm_X_train1=pd.DataFrame(norm_X_train,columns=X_train_v1.columns)\n",
    "norm_X_train1.var(axis=0)"
   ]
  },
  {
   "cell_type": "markdown",
   "id": "21947ad8",
   "metadata": {
    "papermill": {
     "duration": 0.013673,
     "end_time": "2023-07-03T20:54:28.286812",
     "exception": false,
     "start_time": "2023-07-03T20:54:28.273139",
     "status": "completed"
    },
    "tags": []
   },
   "source": [
    "# Variance threshold"
   ]
  },
  {
   "cell_type": "code",
   "execution_count": 9,
   "id": "f56f0a41",
   "metadata": {
    "execution": {
     "iopub.execute_input": "2023-07-03T20:54:28.320953Z",
     "iopub.status.busy": "2023-07-03T20:54:28.320509Z",
     "iopub.status.idle": "2023-07-03T20:54:28.329237Z",
     "shell.execute_reply": "2023-07-03T20:54:28.327782Z"
    },
    "papermill": {
     "duration": 0.030732,
     "end_time": "2023-07-03T20:54:28.332747",
     "exception": false,
     "start_time": "2023-07-03T20:54:28.302015",
     "status": "completed"
    },
    "tags": []
   },
   "outputs": [],
   "source": [
    "threshold = 0.008  # Variance threshold value\n",
    "selector = VarianceThreshold(threshold=threshold)\n",
    "X_var = selector.fit_transform(norm_X_train)\n",
    "X_var_test=selector.transform(norm_X_test)"
   ]
  },
  {
   "cell_type": "code",
   "execution_count": 10,
   "id": "126b5726",
   "metadata": {
    "execution": {
     "iopub.execute_input": "2023-07-03T20:54:28.360302Z",
     "iopub.status.busy": "2023-07-03T20:54:28.359793Z",
     "iopub.status.idle": "2023-07-03T20:54:29.160699Z",
     "shell.execute_reply": "2023-07-03T20:54:29.159144Z"
    },
    "papermill": {
     "duration": 0.818415,
     "end_time": "2023-07-03T20:54:29.163681",
     "exception": false,
     "start_time": "2023-07-03T20:54:28.345266",
     "status": "completed"
    },
    "tags": []
   },
   "outputs": [],
   "source": [
    "model = RandomForestClassifier()\n",
    "model.fit(X_var,y_train)\n",
    "y_pred=model.predict(X_var_test)"
   ]
  },
  {
   "cell_type": "code",
   "execution_count": 11,
   "id": "786347b9",
   "metadata": {
    "execution": {
     "iopub.execute_input": "2023-07-03T20:54:29.192651Z",
     "iopub.status.busy": "2023-07-03T20:54:29.191755Z",
     "iopub.status.idle": "2023-07-03T20:54:29.204634Z",
     "shell.execute_reply": "2023-07-03T20:54:29.202635Z"
    },
    "papermill": {
     "duration": 0.030789,
     "end_time": "2023-07-03T20:54:29.207556",
     "exception": false,
     "start_time": "2023-07-03T20:54:29.176767",
     "status": "completed"
    },
    "tags": []
   },
   "outputs": [
    {
     "name": "stdout",
     "output_type": "stream",
     "text": [
      "F-score: 0.34685778337105994\n"
     ]
    }
   ],
   "source": [
    "f_score = f1_score(y_test, y_pred, average='macro')\n",
    "print(\"F-score:\", f_score)"
   ]
  },
  {
   "cell_type": "code",
   "execution_count": 12,
   "id": "26c329e7",
   "metadata": {
    "execution": {
     "iopub.execute_input": "2023-07-03T20:54:29.236644Z",
     "iopub.status.busy": "2023-07-03T20:54:29.236226Z",
     "iopub.status.idle": "2023-07-03T20:54:29.248234Z",
     "shell.execute_reply": "2023-07-03T20:54:29.246521Z"
    },
    "papermill": {
     "duration": 0.030775,
     "end_time": "2023-07-03T20:54:29.251242",
     "exception": false,
     "start_time": "2023-07-03T20:54:29.220467",
     "status": "completed"
    },
    "tags": []
   },
   "outputs": [
    {
     "name": "stdout",
     "output_type": "stream",
     "text": [
      "Confusion Matrix:\n",
      "[[  0   1   3   2   0   0   0]\n",
      " [  0   9  17  15   0   0   0]\n",
      " [  0   3 225 119   6   0   0]\n",
      " [  0   4  83 391  46   2   0]\n",
      " [  0   1   5  94 113   3   0]\n",
      " [  0   0   0  22  14   6   0]\n",
      " [  0   0   0   1   0   0   0]]\n"
     ]
    }
   ],
   "source": [
    "confusion_mat = confusion_matrix(y_test, y_pred)\n",
    "print(\"Confusion Matrix:\")\n",
    "print(confusion_mat)"
   ]
  },
  {
   "cell_type": "markdown",
   "id": "daaafabd",
   "metadata": {
    "papermill": {
     "duration": 0.01297,
     "end_time": "2023-07-03T20:54:29.278037",
     "exception": false,
     "start_time": "2023-07-03T20:54:29.265067",
     "status": "completed"
    },
    "tags": []
   },
   "source": [
    "# Feature selection using SelectKBest"
   ]
  },
  {
   "cell_type": "code",
   "execution_count": 13,
   "id": "d451e620",
   "metadata": {
    "execution": {
     "iopub.execute_input": "2023-07-03T20:54:29.306982Z",
     "iopub.status.busy": "2023-07-03T20:54:29.306547Z",
     "iopub.status.idle": "2023-07-03T20:54:29.331310Z",
     "shell.execute_reply": "2023-07-03T20:54:29.329730Z"
    },
    "papermill": {
     "duration": 0.043616,
     "end_time": "2023-07-03T20:54:29.334434",
     "exception": false,
     "start_time": "2023-07-03T20:54:29.290818",
     "status": "completed"
    },
    "tags": []
   },
   "outputs": [],
   "source": [
    "k = 5  # Number of best features to select\n",
    "selector = SelectKBest(score_func=chi2, k=k)\n",
    "X_new = selector.fit_transform(norm_X_train,y_train)\n",
    "X_new_test=selector.transform(norm_X_test)"
   ]
  },
  {
   "cell_type": "code",
   "execution_count": 14,
   "id": "d7632190",
   "metadata": {
    "execution": {
     "iopub.execute_input": "2023-07-03T20:54:29.362759Z",
     "iopub.status.busy": "2023-07-03T20:54:29.362353Z",
     "iopub.status.idle": "2023-07-03T20:54:41.195491Z",
     "shell.execute_reply": "2023-07-03T20:54:41.193151Z"
    },
    "papermill": {
     "duration": 11.854089,
     "end_time": "2023-07-03T20:54:41.202148",
     "exception": false,
     "start_time": "2023-07-03T20:54:29.348059",
     "status": "completed"
    },
    "tags": []
   },
   "outputs": [
    {
     "name": "stderr",
     "output_type": "stream",
     "text": [
      "/opt/conda/lib/python3.10/site-packages/sklearn/neural_network/_multilayer_perceptron.py:686: ConvergenceWarning: Stochastic Optimizer: Maximum iterations (200) reached and the optimization hasn't converged yet.\n",
      "  warnings.warn(\n"
     ]
    }
   ],
   "source": [
    "model =MLPClassifier(hidden_layer_sizes=(100, 100), activation='relu', solver='adam')\n",
    "model.fit(X_new,y_train)\n",
    "y_pred=model.predict(X_new_test)"
   ]
  },
  {
   "cell_type": "code",
   "execution_count": 15,
   "id": "65280a9a",
   "metadata": {
    "execution": {
     "iopub.execute_input": "2023-07-03T20:54:41.268374Z",
     "iopub.status.busy": "2023-07-03T20:54:41.267133Z",
     "iopub.status.idle": "2023-07-03T20:54:41.296708Z",
     "shell.execute_reply": "2023-07-03T20:54:41.293999Z"
    },
    "papermill": {
     "duration": 0.07103,
     "end_time": "2023-07-03T20:54:41.304282",
     "exception": false,
     "start_time": "2023-07-03T20:54:41.233252",
     "status": "completed"
    },
    "tags": []
   },
   "outputs": [
    {
     "name": "stdout",
     "output_type": "stream",
     "text": [
      "F-score: 0.25512492947451026\n"
     ]
    }
   ],
   "source": [
    "f_score = f1_score(y_test, y_pred, average='macro')\n",
    "print(\"F-score:\", f_score)"
   ]
  },
  {
   "cell_type": "code",
   "execution_count": 16,
   "id": "ccc1c0fa",
   "metadata": {
    "execution": {
     "iopub.execute_input": "2023-07-03T20:54:41.337269Z",
     "iopub.status.busy": "2023-07-03T20:54:41.336775Z",
     "iopub.status.idle": "2023-07-03T20:54:41.347915Z",
     "shell.execute_reply": "2023-07-03T20:54:41.346508Z"
    },
    "papermill": {
     "duration": 0.029089,
     "end_time": "2023-07-03T20:54:41.351010",
     "exception": false,
     "start_time": "2023-07-03T20:54:41.321921",
     "status": "completed"
    },
    "tags": []
   },
   "outputs": [
    {
     "name": "stdout",
     "output_type": "stream",
     "text": [
      "Confusion Matrix:\n",
      "[[  0   0   4   2   0   0   0]\n",
      " [  0   5  18  17   1   0   0]\n",
      " [  0   4 178 167   4   0   0]\n",
      " [  0   2  84 402  38   0   0]\n",
      " [  0   0   7 138  71   0   0]\n",
      " [  0   0   1  28  13   0   0]\n",
      " [  0   0   0   1   0   0   0]]\n"
     ]
    }
   ],
   "source": [
    "confusion_mat = confusion_matrix(y_test, y_pred)\n",
    "print(\"Confusion Matrix:\")\n",
    "print(confusion_mat)"
   ]
  },
  {
   "cell_type": "markdown",
   "id": "2dfdd652",
   "metadata": {
    "papermill": {
     "duration": 0.013829,
     "end_time": "2023-07-03T20:54:41.379493",
     "exception": false,
     "start_time": "2023-07-03T20:54:41.365664",
     "status": "completed"
    },
    "tags": []
   },
   "source": [
    "# Recursive Feature Elimination (RFE)"
   ]
  },
  {
   "cell_type": "code",
   "execution_count": 17,
   "id": "526d3334",
   "metadata": {
    "execution": {
     "iopub.execute_input": "2023-07-03T20:54:41.408967Z",
     "iopub.status.busy": "2023-07-03T20:54:41.408181Z",
     "iopub.status.idle": "2023-07-03T20:55:12.470647Z",
     "shell.execute_reply": "2023-07-03T20:55:12.469351Z"
    },
    "papermill": {
     "duration": 31.080879,
     "end_time": "2023-07-03T20:55:12.473805",
     "exception": false,
     "start_time": "2023-07-03T20:54:41.392926",
     "status": "completed"
    },
    "tags": []
   },
   "outputs": [],
   "source": [
    "model = GradientBoostingClassifier()  # Choose an appropriate ML model\n",
    "rfe = RFE(estimator=model, n_features_to_select=k)\n",
    "X_rfe = rfe.fit_transform(norm_X_train,y_train)\n",
    "X_rfe_test=selector.transform(norm_X_test)"
   ]
  },
  {
   "cell_type": "code",
   "execution_count": 18,
   "id": "93c18bfd",
   "metadata": {
    "execution": {
     "iopub.execute_input": "2023-07-03T20:55:12.502757Z",
     "iopub.status.busy": "2023-07-03T20:55:12.502300Z",
     "iopub.status.idle": "2023-07-03T20:55:15.966376Z",
     "shell.execute_reply": "2023-07-03T20:55:15.965026Z"
    },
    "papermill": {
     "duration": 3.482398,
     "end_time": "2023-07-03T20:55:15.969268",
     "exception": false,
     "start_time": "2023-07-03T20:55:12.486870",
     "status": "completed"
    },
    "tags": []
   },
   "outputs": [],
   "source": [
    "model = GradientBoostingClassifier()\n",
    "model.fit(X_rfe,y_train)\n",
    "y_pred=model.predict(X_rfe_test)"
   ]
  },
  {
   "cell_type": "code",
   "execution_count": 19,
   "id": "e55e01d5",
   "metadata": {
    "execution": {
     "iopub.execute_input": "2023-07-03T20:55:15.998223Z",
     "iopub.status.busy": "2023-07-03T20:55:15.997676Z",
     "iopub.status.idle": "2023-07-03T20:55:16.009908Z",
     "shell.execute_reply": "2023-07-03T20:55:16.008434Z"
    },
    "papermill": {
     "duration": 0.030345,
     "end_time": "2023-07-03T20:55:16.012602",
     "exception": false,
     "start_time": "2023-07-03T20:55:15.982257",
     "status": "completed"
    },
    "tags": []
   },
   "outputs": [
    {
     "name": "stdout",
     "output_type": "stream",
     "text": [
      "F-score: 0.19633223177725473\n"
     ]
    }
   ],
   "source": [
    "f_score = f1_score(y_test, y_pred, average='macro')\n",
    "print(\"F-score:\", f_score)"
   ]
  },
  {
   "cell_type": "code",
   "execution_count": 20,
   "id": "a07571a5",
   "metadata": {
    "execution": {
     "iopub.execute_input": "2023-07-03T20:55:16.042711Z",
     "iopub.status.busy": "2023-07-03T20:55:16.042280Z",
     "iopub.status.idle": "2023-07-03T20:55:16.054527Z",
     "shell.execute_reply": "2023-07-03T20:55:16.052926Z"
    },
    "papermill": {
     "duration": 0.031068,
     "end_time": "2023-07-03T20:55:16.057483",
     "exception": false,
     "start_time": "2023-07-03T20:55:16.026415",
     "status": "completed"
    },
    "tags": []
   },
   "outputs": [
    {
     "name": "stdout",
     "output_type": "stream",
     "text": [
      "Confusion Matrix:\n",
      "[[  0   2   3   1   0   0   0]\n",
      " [  0   6  28   7   0   0   0]\n",
      " [ 49  14 222  67   0   1   0]\n",
      " [ 65  24 180 254   3   0   0]\n",
      " [ 24   8  35 128  20   1   0]\n",
      " [  6   1  10  20   4   1   0]\n",
      " [  0   0   0   1   0   0   0]]\n"
     ]
    }
   ],
   "source": [
    "confusion_mat = confusion_matrix(y_test, y_pred)\n",
    "print(\"Confusion Matrix:\")\n",
    "print(confusion_mat)"
   ]
  },
  {
   "cell_type": "markdown",
   "id": "81ce0633",
   "metadata": {
    "papermill": {
     "duration": 0.015129,
     "end_time": "2023-07-03T20:55:16.086526",
     "exception": false,
     "start_time": "2023-07-03T20:55:16.071397",
     "status": "completed"
    },
    "tags": []
   },
   "source": [
    "# RFECV"
   ]
  },
  {
   "cell_type": "code",
   "execution_count": 21,
   "id": "8dba7db4",
   "metadata": {
    "execution": {
     "iopub.execute_input": "2023-07-03T20:55:16.118020Z",
     "iopub.status.busy": "2023-07-03T20:55:16.116447Z",
     "iopub.status.idle": "2023-07-03T20:55:55.788477Z",
     "shell.execute_reply": "2023-07-03T20:55:55.786904Z"
    },
    "papermill": {
     "duration": 39.690646,
     "end_time": "2023-07-03T20:55:55.791517",
     "exception": false,
     "start_time": "2023-07-03T20:55:16.100871",
     "status": "completed"
    },
    "tags": []
   },
   "outputs": [
    {
     "name": "stderr",
     "output_type": "stream",
     "text": [
      "/opt/conda/lib/python3.10/site-packages/sklearn/model_selection/_split.py:700: UserWarning: The least populated class in y has only 3 members, which is less than n_splits=5.\n",
      "  warnings.warn(\n"
     ]
    }
   ],
   "source": [
    "classifier = RandomForestClassifier()\n",
    "rfecv = RFECV(estimator=classifier, step=1, cv=StratifiedKFold(5), scoring='f1_macro')\n",
    "X_rfecv_train=rfecv.fit_transform(norm_X_train,y_train)\n",
    "X_rfecv_test=rfecv.transform(norm_X_test)"
   ]
  },
  {
   "cell_type": "code",
   "execution_count": 22,
   "id": "aca329c2",
   "metadata": {
    "execution": {
     "iopub.execute_input": "2023-07-03T20:55:55.823546Z",
     "iopub.status.busy": "2023-07-03T20:55:55.823140Z",
     "iopub.status.idle": "2023-07-03T20:55:55.829626Z",
     "shell.execute_reply": "2023-07-03T20:55:55.827981Z"
    },
    "papermill": {
     "duration": 0.025033,
     "end_time": "2023-07-03T20:55:55.832763",
     "exception": false,
     "start_time": "2023-07-03T20:55:55.807730",
     "status": "completed"
    },
    "tags": []
   },
   "outputs": [
    {
     "name": "stdout",
     "output_type": "stream",
     "text": [
      "Selected features: Index(['volatile acidity', 'citric acid', 'residual sugar', 'chlorides',\n",
      "       'free sulfur dioxide', 'total sulfur dioxide', 'density', 'pH',\n",
      "       'sulphates', 'alcohol'],\n",
      "      dtype='object')\n"
     ]
    }
   ],
   "source": [
    "print(\"Selected features:\", norm_X_train1.columns[rfecv.support_])"
   ]
  },
  {
   "cell_type": "code",
   "execution_count": 23,
   "id": "6a7fa529",
   "metadata": {
    "execution": {
     "iopub.execute_input": "2023-07-03T20:55:55.862773Z",
     "iopub.status.busy": "2023-07-03T20:55:55.862304Z",
     "iopub.status.idle": "2023-07-03T20:55:56.765521Z",
     "shell.execute_reply": "2023-07-03T20:55:56.764667Z"
    },
    "papermill": {
     "duration": 0.921202,
     "end_time": "2023-07-03T20:55:56.768138",
     "exception": false,
     "start_time": "2023-07-03T20:55:55.846936",
     "status": "completed"
    },
    "tags": []
   },
   "outputs": [],
   "source": [
    "model = RandomForestClassifier()\n",
    "model.fit(X_rfecv_train,y_train)\n",
    "y_pred=model.predict(X_rfecv_test)"
   ]
  },
  {
   "cell_type": "code",
   "execution_count": 24,
   "id": "136116d4",
   "metadata": {
    "execution": {
     "iopub.execute_input": "2023-07-03T20:55:56.797973Z",
     "iopub.status.busy": "2023-07-03T20:55:56.796897Z",
     "iopub.status.idle": "2023-07-03T20:55:56.807744Z",
     "shell.execute_reply": "2023-07-03T20:55:56.806696Z"
    },
    "papermill": {
     "duration": 0.028581,
     "end_time": "2023-07-03T20:55:56.810180",
     "exception": false,
     "start_time": "2023-07-03T20:55:56.781599",
     "status": "completed"
    },
    "tags": []
   },
   "outputs": [
    {
     "name": "stdout",
     "output_type": "stream",
     "text": [
      "F-score: 0.36059469728232585\n"
     ]
    }
   ],
   "source": [
    "f_score = f1_score(y_test, y_pred, average='macro')\n",
    "print(\"F-score:\", f_score)"
   ]
  },
  {
   "cell_type": "code",
   "execution_count": 25,
   "id": "bb24271c",
   "metadata": {
    "execution": {
     "iopub.execute_input": "2023-07-03T20:55:56.839961Z",
     "iopub.status.busy": "2023-07-03T20:55:56.838944Z",
     "iopub.status.idle": "2023-07-03T20:55:56.849620Z",
     "shell.execute_reply": "2023-07-03T20:55:56.848484Z"
    },
    "papermill": {
     "duration": 0.028012,
     "end_time": "2023-07-03T20:55:56.851950",
     "exception": false,
     "start_time": "2023-07-03T20:55:56.823938",
     "status": "completed"
    },
    "tags": []
   },
   "outputs": [
    {
     "name": "stdout",
     "output_type": "stream",
     "text": [
      "Confusion Matrix:\n",
      "[[  0   0   3   3   0   0   0]\n",
      " [  0   9  19  12   1   0   0]\n",
      " [  0   2 240 108   3   0   0]\n",
      " [  0   0  96 398  30   2   0]\n",
      " [  0   0   8  99 109   0   0]\n",
      " [  0   0   0  27   9   6   0]\n",
      " [  0   0   0   1   0   0   0]]\n"
     ]
    }
   ],
   "source": [
    "confusion_mat = confusion_matrix(y_test, y_pred)\n",
    "print(\"Confusion Matrix:\")\n",
    "print(confusion_mat)"
   ]
  },
  {
   "cell_type": "code",
   "execution_count": 26,
   "id": "b19cf078",
   "metadata": {
    "execution": {
     "iopub.execute_input": "2023-07-03T20:55:56.881786Z",
     "iopub.status.busy": "2023-07-03T20:55:56.881049Z",
     "iopub.status.idle": "2023-07-03T20:55:57.154844Z",
     "shell.execute_reply": "2023-07-03T20:55:57.153904Z"
    },
    "papermill": {
     "duration": 0.291354,
     "end_time": "2023-07-03T20:55:57.157235",
     "exception": false,
     "start_time": "2023-07-03T20:55:56.865881",
     "status": "completed"
    },
    "tags": []
   },
   "outputs": [
    {
     "data": {
      "image/png": "[encoded data removed]",
      "text/plain": [
       "<Figure size 640x480 with 1 Axes>"
      ]
     },
     "metadata": {},
     "output_type": "display_data"
    }
   ],
   "source": [
    "plt.figure()\n",
    "plt.xlabel(\"Number of features selected\")\n",
    "plt.ylabel(\"Cross-validation score (F1 Macro)\")\n",
    "plt.plot(range(1, len(rfecv.cv_results_['mean_test_score']) + 1), rfecv.cv_results_['mean_test_score'])\n",
    "plt.show()"
   ]
  },
  {
   "cell_type": "markdown",
   "id": "8494c81a",
   "metadata": {
    "papermill": {
     "duration": 0.014552,
     "end_time": "2023-07-03T20:55:57.186828",
     "exception": false,
     "start_time": "2023-07-03T20:55:57.172276",
     "status": "completed"
    },
    "tags": []
   },
   "source": [
    "# Creating File"
   ]
  },
  {
   "cell_type": "code",
   "execution_count": 27,
   "id": "cb4842a8",
   "metadata": {
    "execution": {
     "iopub.execute_input": "2023-07-03T20:55:57.218515Z",
     "iopub.status.busy": "2023-07-03T20:55:57.218034Z",
     "iopub.status.idle": "2023-07-03T20:55:57.226147Z",
     "shell.execute_reply": "2023-07-03T20:55:57.224944Z"
    },
    "papermill": {
     "duration": 0.026882,
     "end_time": "2023-07-03T20:55:57.228547",
     "exception": false,
     "start_time": "2023-07-03T20:55:57.201665",
     "status": "completed"
    },
    "tags": []
   },
   "outputs": [],
   "source": [
    "X = train_data.drop(['ID','Quality'], axis=1)\n",
    "X_test=test_data.drop(['ID'],axis=1)\n",
    "y = train_data['Quality']"
   ]
  },
  {
   "cell_type": "code",
   "execution_count": 28,
   "id": "cf9a8f8c",
   "metadata": {
    "execution": {
     "iopub.execute_input": "2023-07-03T20:55:57.261263Z",
     "iopub.status.busy": "2023-07-03T20:55:57.259966Z",
     "iopub.status.idle": "2023-07-03T20:55:57.273182Z",
     "shell.execute_reply": "2023-07-03T20:55:57.272193Z"
    },
    "papermill": {
     "duration": 0.032491,
     "end_time": "2023-07-03T20:55:57.275757",
     "exception": false,
     "start_time": "2023-07-03T20:55:57.243266",
     "status": "completed"
    },
    "tags": []
   },
   "outputs": [],
   "source": [
    "norm = StandardScaler()\n",
    "norm_X_train = norm.fit_transform(X)\n",
    "norm_X_test=norm.transform(X_test)"
   ]
  },
  {
   "cell_type": "code",
   "execution_count": 29,
   "id": "36fb874e",
   "metadata": {
    "execution": {
     "iopub.execute_input": "2023-07-03T20:55:57.309022Z",
     "iopub.status.busy": "2023-07-03T20:55:57.308236Z",
     "iopub.status.idle": "2023-07-03T21:00:51.631699Z",
     "shell.execute_reply": "2023-07-03T21:00:51.630810Z"
    },
    "papermill": {
     "duration": 294.342856,
     "end_time": "2023-07-03T21:00:51.634235",
     "exception": false,
     "start_time": "2023-07-03T20:55:57.291379",
     "status": "completed"
    },
    "tags": []
   },
   "outputs": [
    {
     "name": "stderr",
     "output_type": "stream",
     "text": [
      "/opt/conda/lib/python3.10/site-packages/sklearn/model_selection/_split.py:700: UserWarning: The least populated class in y has only 4 members, which is less than n_splits=5.\n",
      "  warnings.warn(\n",
      "/opt/conda/lib/python3.10/site-packages/sklearn/model_selection/_split.py:700: UserWarning: The least populated class in y has only 4 members, which is less than n_splits=5.\n",
      "  warnings.warn(\n",
      "/opt/conda/lib/python3.10/site-packages/sklearn/model_selection/_split.py:700: UserWarning: The least populated class in y has only 4 members, which is less than n_splits=5.\n",
      "  warnings.warn(\n",
      "/opt/conda/lib/python3.10/site-packages/sklearn/model_selection/_split.py:700: UserWarning: The least populated class in y has only 4 members, which is less than n_splits=5.\n",
      "  warnings.warn(\n"
     ]
    }
   ],
   "source": [
    "# Define the base estimators\n",
    "svc_model = SVC(C=5.0, kernel='rbf', gamma=2.2)\n",
    "mlp_model = MLPClassifier(hidden_layer_sizes=(400, 200), activation='tanh', solver='adam', learning_rate='constant', \n",
    "                          learning_rate_init=0.006, max_iter=400, random_state=6)\n",
    "gb_model = GradientBoostingClassifier()\n",
    "rf_model=AdaBoostClassifier()\n",
    "# Define the final estimator\n",
    "#final_estimator = KNeighborsClassifier()\n",
    "#final_estimator = RandomForestClassifier() (Best Version)\n",
    "final_estimator = RandomForestClassifier()\n",
    "# Create the stacking classifier\n",
    "estimators = [('svc', svc_model), ('mlp', mlp_model), ('gb', gb_model),('rf', rf_model)]\n",
    "stacking_model = StackingClassifier(estimators=estimators, final_estimator=final_estimator)\n",
    "\n",
    "# Fit the stacking classifier\n",
    "stacking_model.fit(norm_X_train, y)\n",
    "\n",
    "# Make predictions\n",
    "y_pred = stacking_model.predict(norm_X_test)"
   ]
  },
  {
   "cell_type": "code",
   "execution_count": 30,
   "id": "01a14dd0",
   "metadata": {
    "execution": {
     "iopub.execute_input": "2023-07-03T21:00:51.667380Z",
     "iopub.status.busy": "2023-07-03T21:00:51.666963Z",
     "iopub.status.idle": "2023-07-03T21:00:51.681562Z",
     "shell.execute_reply": "2023-07-03T21:00:51.680563Z"
    },
    "papermill": {
     "duration": 0.034941,
     "end_time": "2023-07-03T21:00:51.684357",
     "exception": false,
     "start_time": "2023-07-03T21:00:51.649416",
     "status": "completed"
    },
    "tags": []
   },
   "outputs": [],
   "source": [
    "submission = pd.DataFrame({\"ID\": test_data[\"ID\"], \"Quality\": y_pred})\n",
    "submission.to_csv(\"submission.csv\", index=False)"
   ]
  }
 ],
 "metadata": {
  "kernelspec": {
   "display_name": "Python 3",
   "language": "python",
   "name": "python3"
  },
  "language_info": {
   "codemirror_mode": {
    "name": "ipython",
    "version": 3
   },
   "file_extension": ".py",
   "mimetype": "text/x-python",
   "name": "python",
   "nbconvert_exporter": "python",
   "pygments_lexer": "ipython3",
   "version": "3.10.10"
  },
  "papermill": {
   "default_parameters": {},
   "duration": 403.995576,
   "end_time": "2023-07-03T21:00:52.823875",
   "environment_variables": {},
   "exception": null,
   "input_path": "__notebook__.ipynb",
   "output_path": "__notebook__.ipynb",
   "parameters": {},
   "start_time": "2023-07-03T20:54:08.828299",
   "version": "2.4.0"
  }
 },
 "nbformat": 4,
 "nbformat_minor": 5
}
