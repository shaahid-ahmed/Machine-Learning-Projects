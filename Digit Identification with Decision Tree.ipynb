{
 "cells": [
  {
   "cell_type": "code",
   "execution_count": 1,
   "id": "63bcf8f5",
   "metadata": {
    "_cell_guid": "b1076dfc-b9ad-4769-8c92-a6c4dae69d19",
    "_uuid": "8f2839f25d086af736a60e9eeb907d3b93b6e0e5",
    "execution": {
     "iopub.execute_input": "2023-06-18T19:41:39.133219Z",
     "iopub.status.busy": "2023-06-18T19:41:39.132622Z",
     "iopub.status.idle": "2023-06-18T19:41:40.977578Z",
     "shell.execute_reply": "2023-06-18T19:41:40.976139Z"
    },
    "papermill": {
     "duration": 1.85666,
     "end_time": "2023-06-18T19:41:40.980741",
     "exception": false,
     "start_time": "2023-06-18T19:41:39.124081",
     "status": "completed"
    },
    "tags": []
   },
   "outputs": [
    {
     "name": "stdout",
     "output_type": "stream",
     "text": [
      "/kaggle/input/digit-identification-with-decision-tree-b1/sample_submission.csv\n",
      "/kaggle/input/digit-identification-with-decision-tree-b1/train.csv\n",
      "/kaggle/input/digit-identification-with-decision-tree-b1/test.csv\n"
     ]
    }
   ],
   "source": [
    "# This Python 3 environment comes with many helpful analytics libraries installed\n",
    "# It is defined by the kaggle/python Docker image: https://github.com/kaggle/docker-python\n",
    "# For example, here's several helpful packages to load\n",
    "\n",
    "import numpy as np\n",
    "import pandas as pd\n",
    "import matplotlib.pyplot as plt\n",
    "from sklearn.tree import DecisionTreeClassifier\n",
    "from sklearn.metrics import accuracy_score, confusion_matrix\n",
    "from sklearn.preprocessing import MinMaxScaler,PolynomialFeatures\n",
    "from sklearn.model_selection import GridSearchCV,cross_val_score, KFold\n",
    "from sklearn.manifold import TSNE\n",
    "from sklearn.decomposition import TruncatedSVD\n",
    "# Input data files are available in the read-only \"../input/\" directory\n",
    "# For example, running this (by clicking run or pressing Shift+Enter) will list all files under the input directory\n",
    "\n",
    "import os\n",
    "for dirname, _, filenames in os.walk('/kaggle/input'):\n",
    "    for filename in filenames:\n",
    "        print(os.path.join(dirname, filename))\n",
    "\n",
    "# You can write up to 20GB to the current directory (/kaggle/working/) that gets preserved as output when you create a version using \"Save & Run All\" \n",
    "# You can also write temporary files to /kaggle/temp/, but they won't be saved outside of the current session"
   ]
  },
  {
   "cell_type": "code",
   "execution_count": 2,
   "id": "11f156e9",
   "metadata": {
    "execution": {
     "iopub.execute_input": "2023-06-18T19:41:40.993356Z",
     "iopub.status.busy": "2023-06-18T19:41:40.992949Z",
     "iopub.status.idle": "2023-06-18T19:41:41.046328Z",
     "shell.execute_reply": "2023-06-18T19:41:41.044911Z"
    },
    "papermill": {
     "duration": 0.062914,
     "end_time": "2023-06-18T19:41:41.049289",
     "exception": false,
     "start_time": "2023-06-18T19:41:40.986375",
     "status": "completed"
    },
    "tags": []
   },
   "outputs": [],
   "source": [
    "train_data=pd.read_csv('/kaggle/input/digit-identification-with-decision-tree-b1/train.csv',header=None)\n",
    "test_data=pd.read_csv('/kaggle/input/digit-identification-with-decision-tree-b1/test.csv',header=None)"
   ]
  },
  {
   "cell_type": "code",
   "execution_count": 3,
   "id": "8eabbe58",
   "metadata": {
    "execution": {
     "iopub.execute_input": "2023-06-18T19:41:41.062723Z",
     "iopub.status.busy": "2023-06-18T19:41:41.061737Z",
     "iopub.status.idle": "2023-06-18T19:41:41.068646Z",
     "shell.execute_reply": "2023-06-18T19:41:41.067443Z"
    },
    "papermill": {
     "duration": 0.01615,
     "end_time": "2023-06-18T19:41:41.071009",
     "exception": false,
     "start_time": "2023-06-18T19:41:41.054859",
     "status": "completed"
    },
    "tags": []
   },
   "outputs": [],
   "source": [
    "tt=test_data\n",
    "train_data = train_data.iloc[:, 1:]\n",
    "test_data = test_data.iloc[:, 1:]"
   ]
  },
  {
   "cell_type": "code",
   "execution_count": 4,
   "id": "6c89b1ad",
   "metadata": {
    "execution": {
     "iopub.execute_input": "2023-06-18T19:41:41.084688Z",
     "iopub.status.busy": "2023-06-18T19:41:41.083317Z",
     "iopub.status.idle": "2023-06-18T19:41:41.089966Z",
     "shell.execute_reply": "2023-06-18T19:41:41.088797Z"
    },
    "papermill": {
     "duration": 0.016463,
     "end_time": "2023-06-18T19:41:41.092859",
     "exception": false,
     "start_time": "2023-06-18T19:41:41.076396",
     "status": "completed"
    },
    "tags": []
   },
   "outputs": [],
   "source": [
    "X_train = train_data.iloc[:, :-1].values\n",
    "y_train = train_data.iloc[:, -1].values\n",
    "X_test = test_data.values"
   ]
  },
  {
   "cell_type": "code",
   "execution_count": 5,
   "id": "8b60527f",
   "metadata": {
    "execution": {
     "iopub.execute_input": "2023-06-18T19:41:41.107477Z",
     "iopub.status.busy": "2023-06-18T19:41:41.106089Z",
     "iopub.status.idle": "2023-06-18T19:41:41.116118Z",
     "shell.execute_reply": "2023-06-18T19:41:41.114992Z"
    },
    "papermill": {
     "duration": 0.02016,
     "end_time": "2023-06-18T19:41:41.118867",
     "exception": false,
     "start_time": "2023-06-18T19:41:41.098707",
     "status": "completed"
    },
    "tags": []
   },
   "outputs": [],
   "source": [
    "scaler = MinMaxScaler()\n",
    "X_train_scaled = scaler.fit_transform(X_train)\n",
    "X_test_scaled = scaler.transform(X_test)"
   ]
  },
  {
   "cell_type": "code",
   "execution_count": 6,
   "id": "84d9b632",
   "metadata": {
    "execution": {
     "iopub.execute_input": "2023-06-18T19:41:41.131677Z",
     "iopub.status.busy": "2023-06-18T19:41:41.131257Z",
     "iopub.status.idle": "2023-06-18T19:41:41.321054Z",
     "shell.execute_reply": "2023-06-18T19:41:41.319477Z"
    },
    "papermill": {
     "duration": 0.200865,
     "end_time": "2023-06-18T19:41:41.325371",
     "exception": false,
     "start_time": "2023-06-18T19:41:41.124506",
     "status": "completed"
    },
    "tags": []
   },
   "outputs": [],
   "source": [
    "svd = TruncatedSVD(n_components=50, random_state=1234)\n",
    "X_train_svd = svd.fit_transform(X_train_scaled)\n",
    "X_val_svd = svd.transform(X_test_scaled)"
   ]
  },
  {
   "cell_type": "code",
   "execution_count": 7,
   "id": "6b1fae37",
   "metadata": {
    "execution": {
     "iopub.execute_input": "2023-06-18T19:41:41.359488Z",
     "iopub.status.busy": "2023-06-18T19:41:41.358829Z",
     "iopub.status.idle": "2023-06-18T19:41:49.651192Z",
     "shell.execute_reply": "2023-06-18T19:41:49.650175Z"
    },
    "papermill": {
     "duration": 8.317367,
     "end_time": "2023-06-18T19:41:49.653923",
     "exception": false,
     "start_time": "2023-06-18T19:41:41.336556",
     "status": "completed"
    },
    "tags": []
   },
   "outputs": [],
   "source": [
    "agg = TSNE(n_components=2, random_state=1234)\n",
    "X_train_agg = agg.fit_transform(X_train_svd)\n",
    "X_val_agg = agg.fit_transform(X_val_svd)"
   ]
  },
  {
   "cell_type": "code",
   "execution_count": 8,
   "id": "a98e80fe",
   "metadata": {
    "execution": {
     "iopub.execute_input": "2023-06-18T19:41:49.669279Z",
     "iopub.status.busy": "2023-06-18T19:41:49.668904Z",
     "iopub.status.idle": "2023-06-18T19:41:50.693618Z",
     "shell.execute_reply": "2023-06-18T19:41:50.692345Z"
    },
    "papermill": {
     "duration": 1.034175,
     "end_time": "2023-06-18T19:41:50.696370",
     "exception": false,
     "start_time": "2023-06-18T19:41:49.662195",
     "status": "completed"
    },
    "tags": []
   },
   "outputs": [
    {
     "data": {
      "image/png": "[encoded data removed]",
      "text/plain": [
       "<Figure size 1000x400 with 10 Axes>"
      ]
     },
     "metadata": {},
     "output_type": "display_data"
    }
   ],
   "source": [
    "# Reshape the data to 2D array (8x8)\n",
    "X_2d = X_train.reshape((-1, 8, 8))\n",
    "\n",
    "# Visualize the first few images\n",
    "fig, axes = plt.subplots(2, 5, figsize=(10, 4))\n",
    "\n",
    "for i, ax in enumerate(axes.flat):\n",
    "    ax.imshow(X_2d[i], cmap='gray')\n",
    "    ax.set_title(\"Label: {}\".format(y_train[i]))\n",
    "    ax.axis('off')\n",
    "\n",
    "plt.tight_layout()\n"
   ]
  },
  {
   "cell_type": "code",
   "execution_count": 9,
   "id": "3ea19bfa",
   "metadata": {
    "execution": {
     "iopub.execute_input": "2023-06-18T19:41:50.711177Z",
     "iopub.status.busy": "2023-06-18T19:41:50.709837Z",
     "iopub.status.idle": "2023-06-18T19:41:50.715394Z",
     "shell.execute_reply": "2023-06-18T19:41:50.714367Z"
    },
    "papermill": {
     "duration": 0.015721,
     "end_time": "2023-06-18T19:41:50.717986",
     "exception": false,
     "start_time": "2023-06-18T19:41:50.702265",
     "status": "completed"
    },
    "tags": []
   },
   "outputs": [],
   "source": [
    "param_grid = {\n",
    "    'max_depth': [5,10],\n",
    "    'criterion': ['gini', 'entropy','log_loss']\n",
    "}"
   ]
  },
  {
   "cell_type": "code",
   "execution_count": 10,
   "id": "6a731f8f",
   "metadata": {
    "execution": {
     "iopub.execute_input": "2023-06-18T19:41:50.732497Z",
     "iopub.status.busy": "2023-06-18T19:41:50.732021Z",
     "iopub.status.idle": "2023-06-18T19:41:50.914878Z",
     "shell.execute_reply": "2023-06-18T19:41:50.913464Z"
    },
    "papermill": {
     "duration": 0.193726,
     "end_time": "2023-06-18T19:41:50.918004",
     "exception": false,
     "start_time": "2023-06-18T19:41:50.724278",
     "status": "completed"
    },
    "tags": []
   },
   "outputs": [
    {
     "data": {
      "text/html": [
       "<style>#sk-container-id-1 {color: black;background-color: white;}#sk-container-id-1 pre{padding: 0;}#sk-container-id-1 div.sk-toggleable {background-color: white;}#sk-container-id-1 label.sk-toggleable__label {cursor: pointer;display: block;width: 100%;margin-bottom: 0;padding: 0.3em;box-sizing: border-box;text-align: center;}#sk-container-id-1 label.sk-toggleable__label-arrow:before {content: \"▸\";float: left;margin-right: 0.25em;color: #696969;}#sk-container-id-1 label.sk-toggleable__label-arrow:hover:before {color: black;}#sk-container-id-1 div.sk-estimator:hover label.sk-toggleable__label-arrow:before {color: black;}#sk-container-id-1 div.sk-toggleable__content {max-height: 0;max-width: 0;overflow: hidden;text-align: left;background-color: #f0f8ff;}#sk-container-id-1 div.sk-toggleable__content pre {margin: 0.2em;color: black;border-radius: 0.25em;background-color: #f0f8ff;}#sk-container-id-1 input.sk-toggleable__control:checked~div.sk-toggleable__content {max-height: 200px;max-width: 100%;overflow: auto;}#sk-container-id-1 input.sk-toggleable__control:checked~label.sk-toggleable__label-arrow:before {content: \"▾\";}#sk-container-id-1 div.sk-estimator input.sk-toggleable__control:checked~label.sk-toggleable__label {background-color: #d4ebff;}#sk-container-id-1 div.sk-label input.sk-toggleable__control:checked~label.sk-toggleable__label {background-color: #d4ebff;}#sk-container-id-1 input.sk-hidden--visually {border: 0;clip: rect(1px 1px 1px 1px);clip: rect(1px, 1px, 1px, 1px);height: 1px;margin: -1px;overflow: hidden;padding: 0;position: absolute;width: 1px;}#sk-container-id-1 div.sk-estimator {font-family: monospace;background-color: #f0f8ff;border: 1px dotted black;border-radius: 0.25em;box-sizing: border-box;margin-bottom: 0.5em;}#sk-container-id-1 div.sk-estimator:hover {background-color: #d4ebff;}#sk-container-id-1 div.sk-parallel-item::after {content: \"\";width: 100%;border-bottom: 1px solid gray;flex-grow: 1;}#sk-container-id-1 div.sk-label:hover label.sk-toggleable__label {background-color: #d4ebff;}#sk-container-id-1 div.sk-serial::before {content: \"\";position: absolute;border-left: 1px solid gray;box-sizing: border-box;top: 0;bottom: 0;left: 50%;z-index: 0;}#sk-container-id-1 div.sk-serial {display: flex;flex-direction: column;align-items: center;background-color: white;padding-right: 0.2em;padding-left: 0.2em;position: relative;}#sk-container-id-1 div.sk-item {position: relative;z-index: 1;}#sk-container-id-1 div.sk-parallel {display: flex;align-items: stretch;justify-content: center;background-color: white;position: relative;}#sk-container-id-1 div.sk-item::before, #sk-container-id-1 div.sk-parallel-item::before {content: \"\";position: absolute;border-left: 1px solid gray;box-sizing: border-box;top: 0;bottom: 0;left: 50%;z-index: -1;}#sk-container-id-1 div.sk-parallel-item {display: flex;flex-direction: column;z-index: 1;position: relative;background-color: white;}#sk-container-id-1 div.sk-parallel-item:first-child::after {align-self: flex-end;width: 50%;}#sk-container-id-1 div.sk-parallel-item:last-child::after {align-self: flex-start;width: 50%;}#sk-container-id-1 div.sk-parallel-item:only-child::after {width: 0;}#sk-container-id-1 div.sk-dashed-wrapped {border: 1px dashed gray;margin: 0 0.4em 0.5em 0.4em;box-sizing: border-box;padding-bottom: 0.4em;background-color: white;}#sk-container-id-1 div.sk-label label {font-family: monospace;font-weight: bold;display: inline-block;line-height: 1.2em;}#sk-container-id-1 div.sk-label-container {text-align: center;}#sk-container-id-1 div.sk-container {/* jupyter's `normalize.less` sets `[hidden] { display: none; }` but bootstrap.min.css set `[hidden] { display: none !important; }` so we also need the `!important` here to be able to override the default hidden behavior on the sphinx rendered scikit-learn.org. See: https://github.com/scikit-learn/scikit-learn/issues/21755 */display: inline-block !important;position: relative;}#sk-container-id-1 div.sk-text-repr-fallback {display: none;}</style><div id=\"sk-container-id-1\" class=\"sk-top-container\"><div class=\"sk-text-repr-fallback\"><pre>GridSearchCV(cv=5, estimator=DecisionTreeClassifier(random_state=1234),\n",
       "             param_grid={&#x27;criterion&#x27;: [&#x27;gini&#x27;, &#x27;entropy&#x27;, &#x27;log_loss&#x27;],\n",
       "                         &#x27;max_depth&#x27;: [5, 10]},\n",
       "             scoring=&#x27;accuracy&#x27;)</pre><b>In a Jupyter environment, please rerun this cell to show the HTML representation or trust the notebook. <br />On GitHub, the HTML representation is unable to render, please try loading this page with nbviewer.org.</b></div><div class=\"sk-container\" hidden><div class=\"sk-item sk-dashed-wrapped\"><div class=\"sk-label-container\"><div class=\"sk-label sk-toggleable\"><input class=\"sk-toggleable__control sk-hidden--visually\" id=\"sk-estimator-id-1\" type=\"checkbox\" ><label for=\"sk-estimator-id-1\" class=\"sk-toggleable__label sk-toggleable__label-arrow\">GridSearchCV</label><div class=\"sk-toggleable__content\"><pre>GridSearchCV(cv=5, estimator=DecisionTreeClassifier(random_state=1234),\n",
       "             param_grid={&#x27;criterion&#x27;: [&#x27;gini&#x27;, &#x27;entropy&#x27;, &#x27;log_loss&#x27;],\n",
       "                         &#x27;max_depth&#x27;: [5, 10]},\n",
       "             scoring=&#x27;accuracy&#x27;)</pre></div></div></div><div class=\"sk-parallel\"><div class=\"sk-parallel-item\"><div class=\"sk-item\"><div class=\"sk-label-container\"><div class=\"sk-label sk-toggleable\"><input class=\"sk-toggleable__control sk-hidden--visually\" id=\"sk-estimator-id-2\" type=\"checkbox\" ><label for=\"sk-estimator-id-2\" class=\"sk-toggleable__label sk-toggleable__label-arrow\">estimator: DecisionTreeClassifier</label><div class=\"sk-toggleable__content\"><pre>DecisionTreeClassifier(random_state=1234)</pre></div></div></div><div class=\"sk-serial\"><div class=\"sk-item\"><div class=\"sk-estimator sk-toggleable\"><input class=\"sk-toggleable__control sk-hidden--visually\" id=\"sk-estimator-id-3\" type=\"checkbox\" ><label for=\"sk-estimator-id-3\" class=\"sk-toggleable__label sk-toggleable__label-arrow\">DecisionTreeClassifier</label><div class=\"sk-toggleable__content\"><pre>DecisionTreeClassifier(random_state=1234)</pre></div></div></div></div></div></div></div></div></div></div>"
      ],
      "text/plain": [
       "GridSearchCV(cv=5, estimator=DecisionTreeClassifier(random_state=1234),\n",
       "             param_grid={'criterion': ['gini', 'entropy', 'log_loss'],\n",
       "                         'max_depth': [5, 10]},\n",
       "             scoring='accuracy')"
      ]
     },
     "execution_count": 10,
     "metadata": {},
     "output_type": "execute_result"
    }
   ],
   "source": [
    "tree = DecisionTreeClassifier(random_state=1234)\n",
    "grid_search = GridSearchCV(tree, param_grid, cv=5, scoring='accuracy')\n",
    "grid_search.fit(X_train_agg, y_train)"
   ]
  },
  {
   "cell_type": "code",
   "execution_count": 11,
   "id": "28895393",
   "metadata": {
    "execution": {
     "iopub.execute_input": "2023-06-18T19:41:50.933083Z",
     "iopub.status.busy": "2023-06-18T19:41:50.932560Z",
     "iopub.status.idle": "2023-06-18T19:41:50.938330Z",
     "shell.execute_reply": "2023-06-18T19:41:50.937108Z"
    },
    "papermill": {
     "duration": 0.016231,
     "end_time": "2023-06-18T19:41:50.940783",
     "exception": false,
     "start_time": "2023-06-18T19:41:50.924552",
     "status": "completed"
    },
    "tags": []
   },
   "outputs": [],
   "source": [
    "best_model = grid_search.best_estimator_\n",
    "best_params = grid_search.best_params_"
   ]
  },
  {
   "cell_type": "code",
   "execution_count": 12,
   "id": "ffb9fb30",
   "metadata": {
    "execution": {
     "iopub.execute_input": "2023-06-18T19:41:50.955790Z",
     "iopub.status.busy": "2023-06-18T19:41:50.955306Z",
     "iopub.status.idle": "2023-06-18T19:41:50.988817Z",
     "shell.execute_reply": "2023-06-18T19:41:50.987611Z"
    },
    "papermill": {
     "duration": 0.044194,
     "end_time": "2023-06-18T19:41:50.991482",
     "exception": false,
     "start_time": "2023-06-18T19:41:50.947288",
     "status": "completed"
    },
    "tags": []
   },
   "outputs": [
    {
     "data": {
      "text/plain": [
       "array([0.97902098, 0.97902098, 0.98601399, 0.97202797, 0.98601399])"
      ]
     },
     "execution_count": 12,
     "metadata": {},
     "output_type": "execute_result"
    }
   ],
   "source": [
    "y_pred = best_model.predict(X_val_agg)\n",
    "kfold = KFold(n_splits=5, shuffle=True, random_state=None)\n",
    "scores = cross_val_score(best_model, X_train_agg, y_train, cv=kfold)\n",
    "scores"
   ]
  },
  {
   "cell_type": "code",
   "execution_count": 13,
   "id": "353edf8f",
   "metadata": {
    "execution": {
     "iopub.execute_input": "2023-06-18T19:41:51.007296Z",
     "iopub.status.busy": "2023-06-18T19:41:51.006768Z",
     "iopub.status.idle": "2023-06-18T19:41:51.015127Z",
     "shell.execute_reply": "2023-06-18T19:41:51.013508Z"
    },
    "papermill": {
     "duration": 0.019716,
     "end_time": "2023-06-18T19:41:51.017602",
     "exception": false,
     "start_time": "2023-06-18T19:41:50.997886",
     "status": "completed"
    },
    "tags": []
   },
   "outputs": [
    {
     "name": "stdout",
     "output_type": "stream",
     "text": [
      "Best parameters: {'criterion': 'gini', 'max_depth': 10}\n"
     ]
    }
   ],
   "source": [
    "print(\"Best parameters:\", best_params)"
   ]
  },
  {
   "cell_type": "code",
   "execution_count": 14,
   "id": "f99c4047",
   "metadata": {
    "execution": {
     "iopub.execute_input": "2023-06-18T19:41:51.032571Z",
     "iopub.status.busy": "2023-06-18T19:41:51.032145Z",
     "iopub.status.idle": "2023-06-18T19:41:51.053000Z",
     "shell.execute_reply": "2023-06-18T19:41:51.051909Z"
    },
    "papermill": {
     "duration": 0.032042,
     "end_time": "2023-06-18T19:41:51.056134",
     "exception": false,
     "start_time": "2023-06-18T19:41:51.024092",
     "status": "completed"
    },
    "tags": []
   },
   "outputs": [],
   "source": [
    "submission = pd.DataFrame({\"ID\": tt[0], \"Category\": y_pred})\n",
    "submission.to_csv(\"submission.csv\", index=False)"
   ]
  }
 ],
 "metadata": {
  "kernelspec": {
   "display_name": "Python 3",
   "language": "python",
   "name": "python3"
  },
  "language_info": {
   "codemirror_mode": {
    "name": "ipython",
    "version": 3
   },
   "file_extension": ".py",
   "mimetype": "text/x-python",
   "name": "python",
   "nbconvert_exporter": "python",
   "pygments_lexer": "ipython3",
   "version": "3.10.10"
  },
  "papermill": {
   "default_parameters": {},
   "duration": 26.258739,
   "end_time": "2023-06-18T19:41:52.490826",
   "environment_variables": {},
   "exception": null,
   "input_path": "__notebook__.ipynb",
   "output_path": "__notebook__.ipynb",
   "parameters": {},
   "start_time": "2023-06-18T19:41:26.232087",
   "version": "2.4.0"
  }
 },
 "nbformat": 4,
 "nbformat_minor": 5
}
