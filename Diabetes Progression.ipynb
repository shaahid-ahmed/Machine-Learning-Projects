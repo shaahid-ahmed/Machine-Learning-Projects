{
 "cells": [
  {
   "cell_type": "code",
   "execution_count": 1,
   "id": "b22e55e1",
   "metadata": {
    "_cell_guid": "b1076dfc-b9ad-4769-8c92-a6c4dae69d19",
    "_uuid": "8f2839f25d086af736a60e9eeb907d3b93b6e0e5",
    "execution": {
     "iopub.execute_input": "2023-06-01T19:25:53.000399Z",
     "iopub.status.busy": "2023-06-01T19:25:52.999861Z",
     "iopub.status.idle": "2023-06-01T19:25:54.629739Z",
     "shell.execute_reply": "2023-06-01T19:25:54.628663Z"
    },
    "papermill": {
     "duration": 1.639605,
     "end_time": "2023-06-01T19:25:54.632480",
     "exception": false,
     "start_time": "2023-06-01T19:25:52.992875",
     "status": "completed"
    },
    "tags": []
   },
   "outputs": [
    {
     "name": "stdout",
     "output_type": "stream",
     "text": [
      "/kaggle/input/diabetes-progression-b1/sample_submission.csv\n",
      "/kaggle/input/diabetes-progression-b1/train.csv\n",
      "/kaggle/input/diabetes-progression-b1/test.csv\n"
     ]
    }
   ],
   "source": [
    "# This Python 3 environment comes with many helpful analytics libraries installed\n",
    "# It is defined by the kaggle/python Docker image: https://github.com/kaggle/docker-python\n",
    "# For example, here's several helpful packages to load\n",
    "\n",
    "import numpy as np # linear algebra\n",
    "import pandas as pd # data processing, CSV file I/O (e.g. pd.read_csv)\n",
    "from sklearn.model_selection import cross_val_score,StratifiedKFold\n",
    "from sklearn.ensemble import VotingRegressor\n",
    "from sklearn.linear_model import LinearRegression,Lasso, Ridge\n",
    "from sklearn.tree import DecisionTreeRegressor\n",
    "from sklearn.ensemble import RandomForestRegressor\n",
    "from sklearn.neighbors import KNeighborsRegressor\n",
    "from sklearn.preprocessing import PolynomialFeatures\n",
    "from sklearn.preprocessing import MinMaxScaler\n",
    "# Input data files are available in the read-only \"../input/\" directory\n",
    "# For example, running this (by clicking run or pressing Shift+Enter) will list all files under the input directory\n",
    "\n",
    "import os\n",
    "for dirname, _, filenames in os.walk('/kaggle/input'):\n",
    "    for filename in filenames:\n",
    "        print(os.path.join(dirname, filename))\n",
    "\n",
    "# You can write up to 20GB to the current directory (/kaggle/working/) that gets preserved as output when you create a version using \"Save & Run All\" \n",
    "# You can also write temporary files to /kaggle/temp/, but they won't be saved outside of the current session"
   ]
  },
  {
   "cell_type": "code",
   "execution_count": 2,
   "id": "4112dff4",
   "metadata": {
    "execution": {
     "iopub.execute_input": "2023-06-01T19:25:54.643524Z",
     "iopub.status.busy": "2023-06-01T19:25:54.643165Z",
     "iopub.status.idle": "2023-06-01T19:25:54.673778Z",
     "shell.execute_reply": "2023-06-01T19:25:54.672798Z"
    },
    "papermill": {
     "duration": 0.039158,
     "end_time": "2023-06-01T19:25:54.676569",
     "exception": false,
     "start_time": "2023-06-01T19:25:54.637411",
     "status": "completed"
    },
    "tags": []
   },
   "outputs": [],
   "source": [
    "test_data = pd.read_csv(\"/kaggle/input/diabetes-progression-b1/test.csv\")\n",
    "train_data = pd.read_csv(\"/kaggle/input/diabetes-progression-b1/train.csv\")"
   ]
  },
  {
   "cell_type": "code",
   "execution_count": 3,
   "id": "92129267",
   "metadata": {
    "execution": {
     "iopub.execute_input": "2023-06-01T19:25:54.687341Z",
     "iopub.status.busy": "2023-06-01T19:25:54.686954Z",
     "iopub.status.idle": "2023-06-01T19:25:54.703776Z",
     "shell.execute_reply": "2023-06-01T19:25:54.702675Z"
    },
    "papermill": {
     "duration": 0.025051,
     "end_time": "2023-06-01T19:25:54.706085",
     "exception": false,
     "start_time": "2023-06-01T19:25:54.681034",
     "status": "completed"
    },
    "tags": []
   },
   "outputs": [],
   "source": [
    "X_train = train_data.drop('y', axis=1).drop(\"ID\", axis=1)\n",
    "y_train = train_data['y']\n",
    "X_test = test_data.drop(\"ID\", axis=1)"
   ]
  },
  {
   "cell_type": "code",
   "execution_count": 4,
   "id": "c54f5c2e",
   "metadata": {
    "execution": {
     "iopub.execute_input": "2023-06-01T19:25:54.716181Z",
     "iopub.status.busy": "2023-06-01T19:25:54.715831Z",
     "iopub.status.idle": "2023-06-01T19:25:54.737630Z",
     "shell.execute_reply": "2023-06-01T19:25:54.736737Z"
    },
    "papermill": {
     "duration": 0.029907,
     "end_time": "2023-06-01T19:25:54.740220",
     "exception": false,
     "start_time": "2023-06-01T19:25:54.710313",
     "status": "completed"
    },
    "tags": []
   },
   "outputs": [],
   "source": [
    "poly_features = MinMaxScaler()\n",
    "p=PolynomialFeatures(degree=4)\n",
    "x=p.fit_transform(X_train)\n",
    "y=p.transform(X_test)\n",
    "X_train_poly = poly_features.fit_transform(x)\n",
    "X_test_poly = poly_features.transform(y)"
   ]
  },
  {
   "cell_type": "code",
   "execution_count": 5,
   "id": "d414b118",
   "metadata": {
    "execution": {
     "iopub.execute_input": "2023-06-01T19:25:54.750444Z",
     "iopub.status.busy": "2023-06-01T19:25:54.750078Z",
     "iopub.status.idle": "2023-06-01T19:25:54.756224Z",
     "shell.execute_reply": "2023-06-01T19:25:54.755203Z"
    },
    "papermill": {
     "duration": 0.014007,
     "end_time": "2023-06-01T19:25:54.758474",
     "exception": false,
     "start_time": "2023-06-01T19:25:54.744467",
     "status": "completed"
    },
    "tags": []
   },
   "outputs": [],
   "source": [
    "reg_models = [\n",
    "    ('linear', LinearRegression()),\n",
    "    ('tree', DecisionTreeRegressor(min_samples_split=10)),\n",
    "    ('forest', RandomForestRegressor(min_samples_split=10)),\n",
    "    ('lasso', Lasso(max_iter=7900)),\n",
    "    ('ridge', Ridge(max_iter=7900)),\n",
    "    ('knn',KNeighborsRegressor(n_neighbors=5,weights='distance',p=3)),\n",
    "]\n"
   ]
  },
  {
   "cell_type": "code",
   "execution_count": 6,
   "id": "6438bab6",
   "metadata": {
    "execution": {
     "iopub.execute_input": "2023-06-01T19:25:54.768387Z",
     "iopub.status.busy": "2023-06-01T19:25:54.768029Z",
     "iopub.status.idle": "2023-06-01T19:25:54.772476Z",
     "shell.execute_reply": "2023-06-01T19:25:54.771513Z"
    },
    "papermill": {
     "duration": 0.011966,
     "end_time": "2023-06-01T19:25:54.774634",
     "exception": false,
     "start_time": "2023-06-01T19:25:54.762668",
     "status": "completed"
    },
    "tags": []
   },
   "outputs": [],
   "source": [
    "ensemble_model = VotingRegressor(estimators=reg_models)"
   ]
  },
  {
   "cell_type": "code",
   "execution_count": 7,
   "id": "56b91815",
   "metadata": {
    "execution": {
     "iopub.execute_input": "2023-06-01T19:25:54.784530Z",
     "iopub.status.busy": "2023-06-01T19:25:54.784160Z",
     "iopub.status.idle": "2023-06-01T19:25:56.411407Z",
     "shell.execute_reply": "2023-06-01T19:25:56.410602Z"
    },
    "papermill": {
     "duration": 1.635057,
     "end_time": "2023-06-01T19:25:56.413956",
     "exception": false,
     "start_time": "2023-06-01T19:25:54.778899",
     "status": "completed"
    },
    "tags": []
   },
   "outputs": [
    {
     "name": "stderr",
     "output_type": "stream",
     "text": [
      "/opt/conda/lib/python3.10/site-packages/sklearn/model_selection/_split.py:700: UserWarning: The least populated class in y has only 1 members, which is less than n_splits=5.\n",
      "  warnings.warn(\n"
     ]
    },
    {
     "name": "stdout",
     "output_type": "stream",
     "text": [
      "Ensemble Model RMSE: 55.26876388766474\n"
     ]
    }
   ],
   "source": [
    "stratified_kfold = StratifiedKFold(n_splits = 5)  \n",
    "cv_scores = cross_val_score(ensemble_model, X_train, y_train, cv=stratified_kfold, scoring=\"neg_mean_squared_error\")\n",
    "rmse_scores = np.sqrt(-cv_scores)\n",
    "ensemble_rmse = rmse_scores.mean()\n",
    "print(f\"Ensemble Model RMSE: {ensemble_rmse}\")"
   ]
  },
  {
   "cell_type": "code",
   "execution_count": 8,
   "id": "4b79aa28",
   "metadata": {
    "execution": {
     "iopub.execute_input": "2023-06-01T19:25:56.424394Z",
     "iopub.status.busy": "2023-06-01T19:25:56.424006Z",
     "iopub.status.idle": "2023-06-01T19:25:56.773655Z",
     "shell.execute_reply": "2023-06-01T19:25:56.772531Z"
    },
    "papermill": {
     "duration": 0.358096,
     "end_time": "2023-06-01T19:25:56.776443",
     "exception": false,
     "start_time": "2023-06-01T19:25:56.418347",
     "status": "completed"
    },
    "tags": []
   },
   "outputs": [
    {
     "data": {
      "text/html": [
       "<style>#sk-container-id-1 {color: black;background-color: white;}#sk-container-id-1 pre{padding: 0;}#sk-container-id-1 div.sk-toggleable {background-color: white;}#sk-container-id-1 label.sk-toggleable__label {cursor: pointer;display: block;width: 100%;margin-bottom: 0;padding: 0.3em;box-sizing: border-box;text-align: center;}#sk-container-id-1 label.sk-toggleable__label-arrow:before {content: \"▸\";float: left;margin-right: 0.25em;color: #696969;}#sk-container-id-1 label.sk-toggleable__label-arrow:hover:before {color: black;}#sk-container-id-1 div.sk-estimator:hover label.sk-toggleable__label-arrow:before {color: black;}#sk-container-id-1 div.sk-toggleable__content {max-height: 0;max-width: 0;overflow: hidden;text-align: left;background-color: #f0f8ff;}#sk-container-id-1 div.sk-toggleable__content pre {margin: 0.2em;color: black;border-radius: 0.25em;background-color: #f0f8ff;}#sk-container-id-1 input.sk-toggleable__control:checked~div.sk-toggleable__content {max-height: 200px;max-width: 100%;overflow: auto;}#sk-container-id-1 input.sk-toggleable__control:checked~label.sk-toggleable__label-arrow:before {content: \"▾\";}#sk-container-id-1 div.sk-estimator input.sk-toggleable__control:checked~label.sk-toggleable__label {background-color: #d4ebff;}#sk-container-id-1 div.sk-label input.sk-toggleable__control:checked~label.sk-toggleable__label {background-color: #d4ebff;}#sk-container-id-1 input.sk-hidden--visually {border: 0;clip: rect(1px 1px 1px 1px);clip: rect(1px, 1px, 1px, 1px);height: 1px;margin: -1px;overflow: hidden;padding: 0;position: absolute;width: 1px;}#sk-container-id-1 div.sk-estimator {font-family: monospace;background-color: #f0f8ff;border: 1px dotted black;border-radius: 0.25em;box-sizing: border-box;margin-bottom: 0.5em;}#sk-container-id-1 div.sk-estimator:hover {background-color: #d4ebff;}#sk-container-id-1 div.sk-parallel-item::after {content: \"\";width: 100%;border-bottom: 1px solid gray;flex-grow: 1;}#sk-container-id-1 div.sk-label:hover label.sk-toggleable__label {background-color: #d4ebff;}#sk-container-id-1 div.sk-serial::before {content: \"\";position: absolute;border-left: 1px solid gray;box-sizing: border-box;top: 0;bottom: 0;left: 50%;z-index: 0;}#sk-container-id-1 div.sk-serial {display: flex;flex-direction: column;align-items: center;background-color: white;padding-right: 0.2em;padding-left: 0.2em;position: relative;}#sk-container-id-1 div.sk-item {position: relative;z-index: 1;}#sk-container-id-1 div.sk-parallel {display: flex;align-items: stretch;justify-content: center;background-color: white;position: relative;}#sk-container-id-1 div.sk-item::before, #sk-container-id-1 div.sk-parallel-item::before {content: \"\";position: absolute;border-left: 1px solid gray;box-sizing: border-box;top: 0;bottom: 0;left: 50%;z-index: -1;}#sk-container-id-1 div.sk-parallel-item {display: flex;flex-direction: column;z-index: 1;position: relative;background-color: white;}#sk-container-id-1 div.sk-parallel-item:first-child::after {align-self: flex-end;width: 50%;}#sk-container-id-1 div.sk-parallel-item:last-child::after {align-self: flex-start;width: 50%;}#sk-container-id-1 div.sk-parallel-item:only-child::after {width: 0;}#sk-container-id-1 div.sk-dashed-wrapped {border: 1px dashed gray;margin: 0 0.4em 0.5em 0.4em;box-sizing: border-box;padding-bottom: 0.4em;background-color: white;}#sk-container-id-1 div.sk-label label {font-family: monospace;font-weight: bold;display: inline-block;line-height: 1.2em;}#sk-container-id-1 div.sk-label-container {text-align: center;}#sk-container-id-1 div.sk-container {/* jupyter's `normalize.less` sets `[hidden] { display: none; }` but bootstrap.min.css set `[hidden] { display: none !important; }` so we also need the `!important` here to be able to override the default hidden behavior on the sphinx rendered scikit-learn.org. See: https://github.com/scikit-learn/scikit-learn/issues/21755 */display: inline-block !important;position: relative;}#sk-container-id-1 div.sk-text-repr-fallback {display: none;}</style><div id=\"sk-container-id-1\" class=\"sk-top-container\"><div class=\"sk-text-repr-fallback\"><pre>VotingRegressor(estimators=[(&#x27;linear&#x27;, LinearRegression()),\n",
       "                            (&#x27;tree&#x27;,\n",
       "                             DecisionTreeRegressor(min_samples_split=10)),\n",
       "                            (&#x27;forest&#x27;,\n",
       "                             RandomForestRegressor(min_samples_split=10)),\n",
       "                            (&#x27;lasso&#x27;, Lasso(max_iter=7900)),\n",
       "                            (&#x27;ridge&#x27;, Ridge(max_iter=7900)),\n",
       "                            (&#x27;knn&#x27;,\n",
       "                             KNeighborsRegressor(p=3, weights=&#x27;distance&#x27;))])</pre><b>In a Jupyter environment, please rerun this cell to show the HTML representation or trust the notebook. <br />On GitHub, the HTML representation is unable to render, please try loading this page with nbviewer.org.</b></div><div class=\"sk-container\" hidden><div class=\"sk-item sk-dashed-wrapped\"><div class=\"sk-label-container\"><div class=\"sk-label sk-toggleable\"><input class=\"sk-toggleable__control sk-hidden--visually\" id=\"sk-estimator-id-1\" type=\"checkbox\" ><label for=\"sk-estimator-id-1\" class=\"sk-toggleable__label sk-toggleable__label-arrow\">VotingRegressor</label><div class=\"sk-toggleable__content\"><pre>VotingRegressor(estimators=[(&#x27;linear&#x27;, LinearRegression()),\n",
       "                            (&#x27;tree&#x27;,\n",
       "                             DecisionTreeRegressor(min_samples_split=10)),\n",
       "                            (&#x27;forest&#x27;,\n",
       "                             RandomForestRegressor(min_samples_split=10)),\n",
       "                            (&#x27;lasso&#x27;, Lasso(max_iter=7900)),\n",
       "                            (&#x27;ridge&#x27;, Ridge(max_iter=7900)),\n",
       "                            (&#x27;knn&#x27;,\n",
       "                             KNeighborsRegressor(p=3, weights=&#x27;distance&#x27;))])</pre></div></div></div><div class=\"sk-parallel\"><div class=\"sk-parallel-item\"><div class=\"sk-item\"><div class=\"sk-label-container\"><div class=\"sk-label sk-toggleable\"><label>linear</label></div></div><div class=\"sk-serial\"><div class=\"sk-item\"><div class=\"sk-estimator sk-toggleable\"><input class=\"sk-toggleable__control sk-hidden--visually\" id=\"sk-estimator-id-2\" type=\"checkbox\" ><label for=\"sk-estimator-id-2\" class=\"sk-toggleable__label sk-toggleable__label-arrow\">LinearRegression</label><div class=\"sk-toggleable__content\"><pre>LinearRegression()</pre></div></div></div></div></div></div><div class=\"sk-parallel-item\"><div class=\"sk-item\"><div class=\"sk-label-container\"><div class=\"sk-label sk-toggleable\"><label>tree</label></div></div><div class=\"sk-serial\"><div class=\"sk-item\"><div class=\"sk-estimator sk-toggleable\"><input class=\"sk-toggleable__control sk-hidden--visually\" id=\"sk-estimator-id-3\" type=\"checkbox\" ><label for=\"sk-estimator-id-3\" class=\"sk-toggleable__label sk-toggleable__label-arrow\">DecisionTreeRegressor</label><div class=\"sk-toggleable__content\"><pre>DecisionTreeRegressor(min_samples_split=10)</pre></div></div></div></div></div></div><div class=\"sk-parallel-item\"><div class=\"sk-item\"><div class=\"sk-label-container\"><div class=\"sk-label sk-toggleable\"><label>forest</label></div></div><div class=\"sk-serial\"><div class=\"sk-item\"><div class=\"sk-estimator sk-toggleable\"><input class=\"sk-toggleable__control sk-hidden--visually\" id=\"sk-estimator-id-4\" type=\"checkbox\" ><label for=\"sk-estimator-id-4\" class=\"sk-toggleable__label sk-toggleable__label-arrow\">RandomForestRegressor</label><div class=\"sk-toggleable__content\"><pre>RandomForestRegressor(min_samples_split=10)</pre></div></div></div></div></div></div><div class=\"sk-parallel-item\"><div class=\"sk-item\"><div class=\"sk-label-container\"><div class=\"sk-label sk-toggleable\"><label>lasso</label></div></div><div class=\"sk-serial\"><div class=\"sk-item\"><div class=\"sk-estimator sk-toggleable\"><input class=\"sk-toggleable__control sk-hidden--visually\" id=\"sk-estimator-id-5\" type=\"checkbox\" ><label for=\"sk-estimator-id-5\" class=\"sk-toggleable__label sk-toggleable__label-arrow\">Lasso</label><div class=\"sk-toggleable__content\"><pre>Lasso(max_iter=7900)</pre></div></div></div></div></div></div><div class=\"sk-parallel-item\"><div class=\"sk-item\"><div class=\"sk-label-container\"><div class=\"sk-label sk-toggleable\"><label>ridge</label></div></div><div class=\"sk-serial\"><div class=\"sk-item\"><div class=\"sk-estimator sk-toggleable\"><input class=\"sk-toggleable__control sk-hidden--visually\" id=\"sk-estimator-id-6\" type=\"checkbox\" ><label for=\"sk-estimator-id-6\" class=\"sk-toggleable__label sk-toggleable__label-arrow\">Ridge</label><div class=\"sk-toggleable__content\"><pre>Ridge(max_iter=7900)</pre></div></div></div></div></div></div><div class=\"sk-parallel-item\"><div class=\"sk-item\"><div class=\"sk-label-container\"><div class=\"sk-label sk-toggleable\"><label>knn</label></div></div><div class=\"sk-serial\"><div class=\"sk-item\"><div class=\"sk-estimator sk-toggleable\"><input class=\"sk-toggleable__control sk-hidden--visually\" id=\"sk-estimator-id-7\" type=\"checkbox\" ><label for=\"sk-estimator-id-7\" class=\"sk-toggleable__label sk-toggleable__label-arrow\">KNeighborsRegressor</label><div class=\"sk-toggleable__content\"><pre>KNeighborsRegressor(p=3, weights=&#x27;distance&#x27;)</pre></div></div></div></div></div></div></div></div></div></div>"
      ],
      "text/plain": [
       "VotingRegressor(estimators=[('linear', LinearRegression()),\n",
       "                            ('tree',\n",
       "                             DecisionTreeRegressor(min_samples_split=10)),\n",
       "                            ('forest',\n",
       "                             RandomForestRegressor(min_samples_split=10)),\n",
       "                            ('lasso', Lasso(max_iter=7900)),\n",
       "                            ('ridge', Ridge(max_iter=7900)),\n",
       "                            ('knn',\n",
       "                             KNeighborsRegressor(p=3, weights='distance'))])"
      ]
     },
     "execution_count": 8,
     "metadata": {},
     "output_type": "execute_result"
    }
   ],
   "source": [
    "ensemble_model.fit(X_train, y_train)"
   ]
  },
  {
   "cell_type": "code",
   "execution_count": 9,
   "id": "522ae4a7",
   "metadata": {
    "execution": {
     "iopub.execute_input": "2023-06-01T19:25:56.788097Z",
     "iopub.status.busy": "2023-06-01T19:25:56.787387Z",
     "iopub.status.idle": "2023-06-01T19:25:56.815147Z",
     "shell.execute_reply": "2023-06-01T19:25:56.813736Z"
    },
    "papermill": {
     "duration": 0.036776,
     "end_time": "2023-06-01T19:25:56.818053",
     "exception": false,
     "start_time": "2023-06-01T19:25:56.781277",
     "status": "completed"
    },
    "tags": []
   },
   "outputs": [],
   "source": [
    "y_pred = ensemble_model.predict(X_test)"
   ]
  },
  {
   "cell_type": "code",
   "execution_count": 10,
   "id": "730dbe22",
   "metadata": {
    "execution": {
     "iopub.execute_input": "2023-06-01T19:25:56.830471Z",
     "iopub.status.busy": "2023-06-01T19:25:56.829274Z",
     "iopub.status.idle": "2023-06-01T19:25:56.842779Z",
     "shell.execute_reply": "2023-06-01T19:25:56.841536Z"
    },
    "papermill": {
     "duration": 0.022457,
     "end_time": "2023-06-01T19:25:56.845544",
     "exception": false,
     "start_time": "2023-06-01T19:25:56.823087",
     "status": "completed"
    },
    "tags": []
   },
   "outputs": [],
   "source": [
    "submission = pd.DataFrame({\"ID\": test_data[\"ID\"], \"y\": y_pred})\n",
    "submission.to_csv(\"submission.csv\", index=False)"
   ]
  }
 ],
 "metadata": {
  "kernelspec": {
   "display_name": "Python 3",
   "language": "python",
   "name": "python3"
  },
  "language_info": {
   "codemirror_mode": {
    "name": "ipython",
    "version": 3
   },
   "file_extension": ".py",
   "mimetype": "text/x-python",
   "name": "python",
   "nbconvert_exporter": "python",
   "pygments_lexer": "ipython3",
   "version": "3.10.10"
  },
  "papermill": {
   "default_parameters": {},
   "duration": 16.288345,
   "end_time": "2023-06-01T19:25:57.772501",
   "environment_variables": {},
   "exception": null,
   "input_path": "__notebook__.ipynb",
   "output_path": "__notebook__.ipynb",
   "parameters": {},
   "start_time": "2023-06-01T19:25:41.484156",
   "version": "2.4.0"
  }
 },
 "nbformat": 4,
 "nbformat_minor": 5
}
